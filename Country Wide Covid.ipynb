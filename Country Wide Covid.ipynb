{
 "cells": [
  {
   "cell_type": "code",
   "execution_count": 64,
   "metadata": {},
   "outputs": [],
   "source": [
    "#Generic\n",
    "import pandas as pd, numpy as np, seaborn as sns, matplotlib.pyplot as plt, joblib\n",
    "from scipy.stats import zscore,boxcox\n",
    "\n",
    "#Encode\n",
    "from sklearn.preprocessing import LabelEncoder, OneHotEncoder\n",
    "\n",
    "#Skewness\n",
    "from sklearn.preprocessing import PowerTransformer\n",
    "\n",
    "#Normalize\n",
    "from sklearn.preprocessing import MinMaxScaler,StandardScaler\n",
    "\n",
    "#Impute\n",
    "from sklearn.impute import SimpleImputer\n",
    "\n",
    "#Decomposition\n",
    "from sklearn.decomposition import PCA\n",
    "\n",
    "#Train Test Split\n",
    "from sklearn.model_selection import train_test_split\n",
    "\n",
    "#Metrics\n",
    "from sklearn.metrics import r2_score,mean_absolute_error,mean_squared_error\n",
    "from sklearn.metrics import accuracy_score,roc_curve,auc,classification_report,confusion_matrix\n",
    "\n",
    "#CrossVal\n",
    "from sklearn.model_selection import cross_val_score\n",
    "\n",
    "#RegressionModels\n",
    "from sklearn.linear_model import LinearRegression,Lasso,Ridge,ElasticNet\n",
    "from sklearn.neighbors import KNeighborsRegressor\n",
    "from sklearn.svm import SVR,LinearSVR\n",
    "from sklearn.ensemble import RandomForestRegressor,AdaBoostRegressor\n",
    "from sklearn.tree import DecisionTreeRegressor\n",
    "\n",
    "#ClassificationModels\n",
    "from sklearn.linear_model import LogisticRegression\n",
    "from sklearn.neighbors import KNeighborsClassifier\n",
    "from sklearn.svm import SVC\n",
    "from sklearn.ensemble import RandomForestClassifier,AdaBoostClassifier,BaggingClassifier,GradientBoostingClassifier\n",
    "from sklearn.tree import DecisionTreeClassifier\n",
    "from sklearn.naive_bayes import GaussianNB\n",
    "\n",
    "#Optimization\n",
    "from sklearn.model_selection import GridSearchCV\n",
    "\n",
    "#Deeplearning\n",
    "from tensorflow.keras.models import Sequential\n",
    "from tensorflow.keras.layers import Dense,Dropout\n",
    "from tensorflow.keras.callbacks import EarlyStopping"
   ]
  },
  {
   "cell_type": "code",
   "execution_count": 65,
   "metadata": {},
   "outputs": [],
   "source": [
    "df_c=pd.read_csv('worldometer_snapshots_April18_to_May18.csv')"
   ]
  },
  {
   "cell_type": "code",
   "execution_count": 66,
   "metadata": {},
   "outputs": [
    {
     "data": {
      "text/html": [
       "<div>\n",
       "<style scoped>\n",
       "    .dataframe tbody tr th:only-of-type {\n",
       "        vertical-align: middle;\n",
       "    }\n",
       "\n",
       "    .dataframe tbody tr th {\n",
       "        vertical-align: top;\n",
       "    }\n",
       "\n",
       "    .dataframe thead th {\n",
       "        text-align: right;\n",
       "    }\n",
       "</style>\n",
       "<table border=\"1\" class=\"dataframe\">\n",
       "  <thead>\n",
       "    <tr style=\"text-align: right;\">\n",
       "      <th></th>\n",
       "      <th>Date</th>\n",
       "      <th>Country</th>\n",
       "      <th>Population</th>\n",
       "      <th>Total Tests</th>\n",
       "      <th>Total Cases</th>\n",
       "      <th>Total Deaths</th>\n",
       "      <th>Total Recovered</th>\n",
       "      <th>Serious or Critical</th>\n",
       "      <th>Active Cases</th>\n",
       "    </tr>\n",
       "  </thead>\n",
       "  <tbody>\n",
       "    <tr>\n",
       "      <th>0</th>\n",
       "      <td>2020-04-18</td>\n",
       "      <td>USA</td>\n",
       "      <td>330774664</td>\n",
       "      <td>3722145.0</td>\n",
       "      <td>738792.0</td>\n",
       "      <td>39014.0</td>\n",
       "      <td>68269.0</td>\n",
       "      <td>13551.0</td>\n",
       "      <td>631509.0</td>\n",
       "    </tr>\n",
       "    <tr>\n",
       "      <th>1</th>\n",
       "      <td>2020-04-18</td>\n",
       "      <td>Russia</td>\n",
       "      <td>145927292</td>\n",
       "      <td>1831892.0</td>\n",
       "      <td>36793.0</td>\n",
       "      <td>313.0</td>\n",
       "      <td>3057.0</td>\n",
       "      <td>8.0</td>\n",
       "      <td>33423.0</td>\n",
       "    </tr>\n",
       "    <tr>\n",
       "      <th>2</th>\n",
       "      <td>2020-04-18</td>\n",
       "      <td>Spain</td>\n",
       "      <td>46752703</td>\n",
       "      <td>930230.0</td>\n",
       "      <td>194416.0</td>\n",
       "      <td>20043.0</td>\n",
       "      <td>74797.0</td>\n",
       "      <td>7371.0</td>\n",
       "      <td>99576.0</td>\n",
       "    </tr>\n",
       "    <tr>\n",
       "      <th>3</th>\n",
       "      <td>2020-04-18</td>\n",
       "      <td>Brazil</td>\n",
       "      <td>212380932</td>\n",
       "      <td>62985.0</td>\n",
       "      <td>36722.0</td>\n",
       "      <td>2361.0</td>\n",
       "      <td>14026.0</td>\n",
       "      <td>6634.0</td>\n",
       "      <td>20335.0</td>\n",
       "    </tr>\n",
       "    <tr>\n",
       "      <th>4</th>\n",
       "      <td>2020-04-18</td>\n",
       "      <td>UK</td>\n",
       "      <td>67844241</td>\n",
       "      <td>460437.0</td>\n",
       "      <td>114217.0</td>\n",
       "      <td>15464.0</td>\n",
       "      <td>NaN</td>\n",
       "      <td>1559.0</td>\n",
       "      <td>98409.0</td>\n",
       "    </tr>\n",
       "  </tbody>\n",
       "</table>\n",
       "</div>"
      ],
      "text/plain": [
       "         Date Country  Population  Total Tests  Total Cases  Total Deaths  \\\n",
       "0  2020-04-18     USA   330774664    3722145.0     738792.0       39014.0   \n",
       "1  2020-04-18  Russia   145927292    1831892.0      36793.0         313.0   \n",
       "2  2020-04-18   Spain    46752703     930230.0     194416.0       20043.0   \n",
       "3  2020-04-18  Brazil   212380932      62985.0      36722.0        2361.0   \n",
       "4  2020-04-18      UK    67844241     460437.0     114217.0       15464.0   \n",
       "\n",
       "   Total Recovered  Serious or Critical  Active Cases  \n",
       "0          68269.0              13551.0      631509.0  \n",
       "1           3057.0                  8.0       33423.0  \n",
       "2          74797.0               7371.0       99576.0  \n",
       "3          14026.0               6634.0       20335.0  \n",
       "4              NaN               1559.0       98409.0  "
      ]
     },
     "execution_count": 66,
     "metadata": {},
     "output_type": "execute_result"
    }
   ],
   "source": [
    "df_c.head()"
   ]
  },
  {
   "cell_type": "code",
   "execution_count": 67,
   "metadata": {},
   "outputs": [
    {
     "name": "stdout",
     "output_type": "stream",
     "text": [
      "<class 'pandas.core.frame.DataFrame'>\n",
      "RangeIndex: 6603 entries, 0 to 6602\n",
      "Data columns (total 9 columns):\n",
      " #   Column               Non-Null Count  Dtype  \n",
      "---  ------               --------------  -----  \n",
      " 0   Date                 6603 non-null   object \n",
      " 1   Country              6603 non-null   object \n",
      " 2   Population           6603 non-null   int64  \n",
      " 3   Total Tests          5505 non-null   float64\n",
      " 4   Total Cases          6554 non-null   float64\n",
      " 5   Total Deaths         5367 non-null   float64\n",
      " 6   Total Recovered      6318 non-null   float64\n",
      " 7   Serious or Critical  4117 non-null   float64\n",
      " 8   Active Cases         6544 non-null   float64\n",
      "dtypes: float64(6), int64(1), object(2)\n",
      "memory usage: 464.4+ KB\n"
     ]
    }
   ],
   "source": [
    "df_c.info()"
   ]
  },
  {
   "cell_type": "code",
   "execution_count": 68,
   "metadata": {},
   "outputs": [
    {
     "data": {
      "text/plain": [
       "Date                      0\n",
       "Country                   0\n",
       "Population                0\n",
       "Total Tests            1098\n",
       "Total Cases              49\n",
       "Total Deaths           1236\n",
       "Total Recovered         285\n",
       "Serious or Critical    2486\n",
       "Active Cases             59\n",
       "dtype: int64"
      ]
     },
     "execution_count": 68,
     "metadata": {},
     "output_type": "execute_result"
    }
   ],
   "source": [
    "df_c.isna().sum()"
   ]
  },
  {
   "cell_type": "code",
   "execution_count": 69,
   "metadata": {},
   "outputs": [
    {
     "data": {
      "text/plain": [
       "array(['USA', 'Russia', 'Spain', 'Brazil', 'UK', 'Italy', 'France',\n",
       "       'Germany', 'Turkey', 'Iran', 'India', 'Peru', 'China', 'Canada',\n",
       "       'Saudi Arabia', 'Belgium', 'Mexico', 'Chile', 'Netherlands',\n",
       "       'Pakistan', 'Qatar', 'Ecuador', 'Switzerland', 'Belarus', 'Sweden',\n",
       "       'Portugal', 'Singapore', 'Ireland', 'UAE', 'Bangladesh', 'Poland',\n",
       "       'Ukraine', 'Indonesia', 'Romania', 'Israel', 'South Africa',\n",
       "       'Japan', 'Colombia', 'Austria', 'Kuwait', 'Egypt',\n",
       "       'Dominican Republic', 'Philippines', 'S. Korea', 'Denmark',\n",
       "       'Serbia', 'Panama', 'Czechia', 'Argentina', 'Norway', 'Algeria',\n",
       "       'Bahrain', 'Afghanistan', 'Australia', 'Morocco', 'Malaysia',\n",
       "       'Kazakhstan', 'Finland', 'Nigeria', 'Moldova', 'Ghana', 'Oman',\n",
       "       'Armenia', 'Bolivia', 'Luxembourg', 'Iraq', 'Hungary', 'Cameroon',\n",
       "       'Azerbaijan', 'Thailand', 'Greece', 'Guinea', 'Uzbekistan',\n",
       "       'Honduras', 'Sudan', 'Senegal', 'Bosnia and Herzegovina',\n",
       "       'Bulgaria', 'Croatia', 'Ivory Coast', 'Guatemala', 'Cuba',\n",
       "       'North Macedonia', 'Iceland', 'Estonia', 'Tajikistan', 'Lithuania',\n",
       "       'DRC', 'Djibouti', 'New Zealand', 'Slovakia', 'Slovenia',\n",
       "       'Somalia', 'Gabon', 'El Salvador', 'Mayotte', 'Kyrgyzstan',\n",
       "       'Maldives', 'Hong Kong', 'Tunisia', 'Guinea-Bissau', 'Latvia',\n",
       "       'Sri Lanka', 'Albania', 'Lebanon', 'Cyprus', 'Kenya', 'Niger',\n",
       "       'Mali', 'Costa Rica', 'Burkina Faso', 'Paraguay', 'Andorra',\n",
       "       'Zambia', 'Uruguay', 'Equatorial Guinea', 'Georgia', 'San Marino',\n",
       "       'Jordan', 'Venezuela', 'Malta', 'Channel Islands', 'Haiti',\n",
       "       'Jamaica', 'Chad', 'Sierra Leone', 'Tanzania', 'Réunion', 'Taiwan',\n",
       "       'Congo', 'Palestine', 'Nepal', 'Ethiopia', 'Benin', 'Isle of Man',\n",
       "       'Mauritius', 'Togo', 'Cabo Verde', 'CAR', 'Montenegro', 'Vietnam',\n",
       "       'Madagascar', 'Rwanda', 'South Sudan', 'Uganda',\n",
       "       'Sao Tome and Principe', 'Liberia', 'French Guiana', 'Eswatini',\n",
       "       'Martinique', 'Myanmar', 'Faeroe Islands', 'Guadeloupe',\n",
       "       'Gibraltar', 'Mozambique', 'Brunei', 'Mongolia', 'Yemen',\n",
       "       'Bermuda', 'Guyana', 'Cambodia', 'Trinidad and Tobago', 'Aruba',\n",
       "       'Monaco', 'Bahamas', 'Cayman Islands', 'Barbados', 'Liechtenstein',\n",
       "       'Mauritania', 'Sint Maarten', 'Malawi', 'Libya',\n",
       "       'French Polynesia', 'Syria', 'Angola', 'Zimbabwe', 'Macao',\n",
       "       'Burundi', 'Saint Martin', 'Eritrea', 'Nicaragua',\n",
       "       'Antigua and Barbuda', 'Botswana', 'Gambia', 'Timor-Leste',\n",
       "       'Grenada', 'Bhutan', 'Laos', 'Belize', 'Fiji', 'New Caledonia',\n",
       "       'Saint Lucia', 'St. Vincent Grenadines', 'Curaçao', 'Dominica',\n",
       "       'Namibia', 'Saint Kitts and Nevis', 'Falkland Islands',\n",
       "       'Turks and Caicos', 'Vatican City', 'Comoros', 'Montserrat',\n",
       "       'Suriname', 'Greenland', 'Seychelles', 'British Virgin Islands',\n",
       "       'Papua New Guinea', 'Caribbean Netherlands', 'St. Barth',\n",
       "       'Western Sahara', 'Anguilla', 'Lesotho', 'Saint Pierre Miquelon'],\n",
       "      dtype=object)"
      ]
     },
     "execution_count": 69,
     "metadata": {},
     "output_type": "execute_result"
    }
   ],
   "source": [
    "df_c['Country'].unique()"
   ]
  },
  {
   "cell_type": "code",
   "execution_count": 70,
   "metadata": {},
   "outputs": [
    {
     "data": {
      "text/plain": [
       "31"
      ]
     },
     "execution_count": 70,
     "metadata": {},
     "output_type": "execute_result"
    }
   ],
   "source": [
    "df_c[(df_c['Country']=='Mali') & (pd.isnull(df_c['Serious or Critical']))]['Serious or Critical'].isna().sum()"
   ]
  },
  {
   "cell_type": "code",
   "execution_count": 71,
   "metadata": {},
   "outputs": [
    {
     "data": {
      "text/plain": [
       "108    NaN\n",
       "321    NaN\n",
       "534    NaN\n",
       "747    NaN\n",
       "960    NaN\n",
       "1173   NaN\n",
       "1386   NaN\n",
       "1599   NaN\n",
       "1812   NaN\n",
       "2025   NaN\n",
       "2238   NaN\n",
       "2451   NaN\n",
       "2664   NaN\n",
       "2877   NaN\n",
       "3090   NaN\n",
       "3303   NaN\n",
       "3516   NaN\n",
       "3729   NaN\n",
       "3942   NaN\n",
       "4155   NaN\n",
       "4368   NaN\n",
       "4581   NaN\n",
       "4794   NaN\n",
       "5007   NaN\n",
       "5220   NaN\n",
       "5433   NaN\n",
       "5646   NaN\n",
       "5859   NaN\n",
       "6072   NaN\n",
       "6285   NaN\n",
       "6498   NaN\n",
       "Name: Serious or Critical, dtype: float64"
      ]
     },
     "execution_count": 71,
     "metadata": {},
     "output_type": "execute_result"
    }
   ],
   "source": [
    "df_c.loc[(df_c['Country']=='Mali') & (pd.isnull(df_c['Serious or Critical'])),'Serious or Critical']"
   ]
  },
  {
   "cell_type": "code",
   "execution_count": 72,
   "metadata": {},
   "outputs": [
    {
     "data": {
      "text/plain": [
       "10.129032258064516"
      ]
     },
     "execution_count": 72,
     "metadata": {},
     "output_type": "execute_result"
    }
   ],
   "source": [
    "df_c.loc[df_c['Country']=='Honduras','Serious or Critical'].mean()"
   ]
  },
  {
   "cell_type": "code",
   "execution_count": 77,
   "metadata": {},
   "outputs": [],
   "source": [
    "for x in df_c['Country'].unique():\n",
    "    if df_c[(df_c['Country']==x) & (pd.isnull(df_c['Serious or Critical']))].count()['Country']>0:\n",
    "        df_c.loc[(df_c['Country']==x) & (pd.isnull(df_c['Serious or Critical'])),'Serious or Critical']=df_c.groupby('Country').mean().loc[x,'Serious or Critical']"
   ]
  },
  {
   "cell_type": "code",
   "execution_count": 79,
   "metadata": {},
   "outputs": [],
   "source": [
    "for x in df_c['Country'].unique():\n",
    "    if df_c[(df_c['Country']==x) & (pd.isnull(df_c['Total Tests']))].count()['Country']>0:\n",
    "        df_c.loc[(df_c['Country']==x) & (pd.isnull(df_c['Total Tests'])),'Total Tests']=df_c.groupby('Country').mean().loc[x,'Total Tests']"
   ]
  },
  {
   "cell_type": "code",
   "execution_count": 83,
   "metadata": {},
   "outputs": [
    {
     "data": {
      "text/plain": [
       "Date                      0\n",
       "Country                   0\n",
       "Population                0\n",
       "Total Tests             868\n",
       "Total Cases              49\n",
       "Total Deaths           1236\n",
       "Total Recovered         285\n",
       "Serious or Critical    2201\n",
       "Active Cases             59\n",
       "dtype: int64"
      ]
     },
     "execution_count": 83,
     "metadata": {},
     "output_type": "execute_result"
    }
   ],
   "source": [
    "df_c.isna().sum()"
   ]
  },
  {
   "cell_type": "code",
   "execution_count": 84,
   "metadata": {},
   "outputs": [
    {
     "data": {
      "text/plain": [
       "nan"
      ]
     },
     "execution_count": 84,
     "metadata": {},
     "output_type": "execute_result"
    }
   ],
   "source": [
    "df_c[(df_c['Country']=='Iraq')]['Serious or Critical'].mean()"
   ]
  },
  {
   "cell_type": "code",
   "execution_count": 85,
   "metadata": {},
   "outputs": [
    {
     "data": {
      "text/html": [
       "<div>\n",
       "<style scoped>\n",
       "    .dataframe tbody tr th:only-of-type {\n",
       "        vertical-align: middle;\n",
       "    }\n",
       "\n",
       "    .dataframe tbody tr th {\n",
       "        vertical-align: top;\n",
       "    }\n",
       "\n",
       "    .dataframe thead th {\n",
       "        text-align: right;\n",
       "    }\n",
       "</style>\n",
       "<table border=\"1\" class=\"dataframe\">\n",
       "  <thead>\n",
       "    <tr style=\"text-align: right;\">\n",
       "      <th></th>\n",
       "      <th>Date</th>\n",
       "      <th>Country</th>\n",
       "      <th>Population</th>\n",
       "      <th>Total Tests</th>\n",
       "      <th>Total Cases</th>\n",
       "      <th>Total Deaths</th>\n",
       "      <th>Total Recovered</th>\n",
       "      <th>Serious or Critical</th>\n",
       "      <th>Active Cases</th>\n",
       "    </tr>\n",
       "  </thead>\n",
       "  <tbody>\n",
       "    <tr>\n",
       "      <th>10</th>\n",
       "      <td>2020-04-18</td>\n",
       "      <td>India</td>\n",
       "      <td>1378381772</td>\n",
       "      <td>335123.000000</td>\n",
       "      <td>16365.0</td>\n",
       "      <td>521.0</td>\n",
       "      <td>2463.0</td>\n",
       "      <td>NaN</td>\n",
       "      <td>13381.0</td>\n",
       "    </tr>\n",
       "    <tr>\n",
       "      <th>32</th>\n",
       "      <td>2020-04-18</td>\n",
       "      <td>Indonesia</td>\n",
       "      <td>273176544</td>\n",
       "      <td>39422.000000</td>\n",
       "      <td>6248.0</td>\n",
       "      <td>535.0</td>\n",
       "      <td>631.0</td>\n",
       "      <td>NaN</td>\n",
       "      <td>5082.0</td>\n",
       "    </tr>\n",
       "    <tr>\n",
       "      <th>65</th>\n",
       "      <td>2020-04-18</td>\n",
       "      <td>Iraq</td>\n",
       "      <td>40108260</td>\n",
       "      <td>53955.000000</td>\n",
       "      <td>1513.0</td>\n",
       "      <td>82.0</td>\n",
       "      <td>953.0</td>\n",
       "      <td>NaN</td>\n",
       "      <td>478.0</td>\n",
       "    </tr>\n",
       "    <tr>\n",
       "      <th>74</th>\n",
       "      <td>2020-04-18</td>\n",
       "      <td>Sudan</td>\n",
       "      <td>43719159</td>\n",
       "      <td>NaN</td>\n",
       "      <td>66.0</td>\n",
       "      <td>10.0</td>\n",
       "      <td>6.0</td>\n",
       "      <td>NaN</td>\n",
       "      <td>50.0</td>\n",
       "    </tr>\n",
       "    <tr>\n",
       "      <th>79</th>\n",
       "      <td>2020-04-18</td>\n",
       "      <td>Ivory Coast</td>\n",
       "      <td>26294743</td>\n",
       "      <td>13252.157895</td>\n",
       "      <td>801.0</td>\n",
       "      <td>8.0</td>\n",
       "      <td>239.0</td>\n",
       "      <td>NaN</td>\n",
       "      <td>554.0</td>\n",
       "    </tr>\n",
       "    <tr>\n",
       "      <th>...</th>\n",
       "      <td>...</td>\n",
       "      <td>...</td>\n",
       "      <td>...</td>\n",
       "      <td>...</td>\n",
       "      <td>...</td>\n",
       "      <td>...</td>\n",
       "      <td>...</td>\n",
       "      <td>...</td>\n",
       "      <td>...</td>\n",
       "    </tr>\n",
       "    <tr>\n",
       "      <th>6598</th>\n",
       "      <td>2020-05-18</td>\n",
       "      <td>St. Barth</td>\n",
       "      <td>9874</td>\n",
       "      <td>NaN</td>\n",
       "      <td>6.0</td>\n",
       "      <td>NaN</td>\n",
       "      <td>6.0</td>\n",
       "      <td>NaN</td>\n",
       "      <td>0.0</td>\n",
       "    </tr>\n",
       "    <tr>\n",
       "      <th>6599</th>\n",
       "      <td>2020-05-18</td>\n",
       "      <td>Western Sahara</td>\n",
       "      <td>595462</td>\n",
       "      <td>NaN</td>\n",
       "      <td>6.0</td>\n",
       "      <td>NaN</td>\n",
       "      <td>6.0</td>\n",
       "      <td>NaN</td>\n",
       "      <td>0.0</td>\n",
       "    </tr>\n",
       "    <tr>\n",
       "      <th>6600</th>\n",
       "      <td>2020-05-18</td>\n",
       "      <td>Anguilla</td>\n",
       "      <td>14987</td>\n",
       "      <td>NaN</td>\n",
       "      <td>3.0</td>\n",
       "      <td>NaN</td>\n",
       "      <td>3.0</td>\n",
       "      <td>NaN</td>\n",
       "      <td>0.0</td>\n",
       "    </tr>\n",
       "    <tr>\n",
       "      <th>6601</th>\n",
       "      <td>2020-05-18</td>\n",
       "      <td>Lesotho</td>\n",
       "      <td>2140235</td>\n",
       "      <td>NaN</td>\n",
       "      <td>1.0</td>\n",
       "      <td>NaN</td>\n",
       "      <td>NaN</td>\n",
       "      <td>NaN</td>\n",
       "      <td>1.0</td>\n",
       "    </tr>\n",
       "    <tr>\n",
       "      <th>6602</th>\n",
       "      <td>2020-05-18</td>\n",
       "      <td>Saint Pierre Miquelon</td>\n",
       "      <td>5797</td>\n",
       "      <td>NaN</td>\n",
       "      <td>1.0</td>\n",
       "      <td>NaN</td>\n",
       "      <td>1.0</td>\n",
       "      <td>NaN</td>\n",
       "      <td>0.0</td>\n",
       "    </tr>\n",
       "  </tbody>\n",
       "</table>\n",
       "<p>2201 rows × 9 columns</p>\n",
       "</div>"
      ],
      "text/plain": [
       "            Date                Country  Population    Total Tests  \\\n",
       "10    2020-04-18                  India  1378381772  335123.000000   \n",
       "32    2020-04-18              Indonesia   273176544   39422.000000   \n",
       "65    2020-04-18                   Iraq    40108260   53955.000000   \n",
       "74    2020-04-18                  Sudan    43719159            NaN   \n",
       "79    2020-04-18            Ivory Coast    26294743   13252.157895   \n",
       "...          ...                    ...         ...            ...   \n",
       "6598  2020-05-18              St. Barth        9874            NaN   \n",
       "6599  2020-05-18         Western Sahara      595462            NaN   \n",
       "6600  2020-05-18               Anguilla       14987            NaN   \n",
       "6601  2020-05-18                Lesotho     2140235            NaN   \n",
       "6602  2020-05-18  Saint Pierre Miquelon        5797            NaN   \n",
       "\n",
       "      Total Cases  Total Deaths  Total Recovered  Serious or Critical  \\\n",
       "10        16365.0         521.0           2463.0                  NaN   \n",
       "32         6248.0         535.0            631.0                  NaN   \n",
       "65         1513.0          82.0            953.0                  NaN   \n",
       "74           66.0          10.0              6.0                  NaN   \n",
       "79          801.0           8.0            239.0                  NaN   \n",
       "...           ...           ...              ...                  ...   \n",
       "6598          6.0           NaN              6.0                  NaN   \n",
       "6599          6.0           NaN              6.0                  NaN   \n",
       "6600          3.0           NaN              3.0                  NaN   \n",
       "6601          1.0           NaN              NaN                  NaN   \n",
       "6602          1.0           NaN              1.0                  NaN   \n",
       "\n",
       "      Active Cases  \n",
       "10         13381.0  \n",
       "32          5082.0  \n",
       "65           478.0  \n",
       "74            50.0  \n",
       "79           554.0  \n",
       "...            ...  \n",
       "6598           0.0  \n",
       "6599           0.0  \n",
       "6600           0.0  \n",
       "6601           1.0  \n",
       "6602           0.0  \n",
       "\n",
       "[2201 rows x 9 columns]"
      ]
     },
     "execution_count": 85,
     "metadata": {},
     "output_type": "execute_result"
    }
   ],
   "source": [
    "df_c[(pd.isnull(df_c['Serious or Critical']))]"
   ]
  },
  {
   "cell_type": "code",
   "execution_count": 86,
   "metadata": {},
   "outputs": [],
   "source": [
    "df_c=df_c.dropna()"
   ]
  },
  {
   "cell_type": "code",
   "execution_count": 87,
   "metadata": {},
   "outputs": [
    {
     "data": {
      "text/plain": [
       "Date                   0\n",
       "Country                0\n",
       "Population             0\n",
       "Total Tests            0\n",
       "Total Cases            0\n",
       "Total Deaths           0\n",
       "Total Recovered        0\n",
       "Serious or Critical    0\n",
       "Active Cases           0\n",
       "dtype: int64"
      ]
     },
     "execution_count": 87,
     "metadata": {},
     "output_type": "execute_result"
    }
   ],
   "source": [
    "df_c.isna().sum()"
   ]
  },
  {
   "cell_type": "code",
   "execution_count": 88,
   "metadata": {},
   "outputs": [
    {
     "name": "stdout",
     "output_type": "stream",
     "text": [
      "<class 'pandas.core.frame.DataFrame'>\n",
      "Int64Index: 3747 entries, 0 to 6591\n",
      "Data columns (total 9 columns):\n",
      " #   Column               Non-Null Count  Dtype  \n",
      "---  ------               --------------  -----  \n",
      " 0   Date                 3747 non-null   object \n",
      " 1   Country              3747 non-null   object \n",
      " 2   Population           3747 non-null   int64  \n",
      " 3   Total Tests          3747 non-null   float64\n",
      " 4   Total Cases          3747 non-null   float64\n",
      " 5   Total Deaths         3747 non-null   float64\n",
      " 6   Total Recovered      3747 non-null   float64\n",
      " 7   Serious or Critical  3747 non-null   float64\n",
      " 8   Active Cases         3747 non-null   float64\n",
      "dtypes: float64(6), int64(1), object(2)\n",
      "memory usage: 292.7+ KB\n"
     ]
    }
   ],
   "source": [
    "df_c.info()"
   ]
  },
  {
   "cell_type": "code",
   "execution_count": 90,
   "metadata": {},
   "outputs": [],
   "source": [
    "df_c.loc[:,'Date']=pd.to_datetime(df_c['Date'])"
   ]
  },
  {
   "cell_type": "code",
   "execution_count": 91,
   "metadata": {},
   "outputs": [
    {
     "data": {
      "text/plain": [
       "131"
      ]
     },
     "execution_count": 91,
     "metadata": {},
     "output_type": "execute_result"
    }
   ],
   "source": [
    "df_c['Country'].nunique()"
   ]
  },
  {
   "cell_type": "code",
   "execution_count": 96,
   "metadata": {},
   "outputs": [],
   "source": [
    "le=LabelEncoder()"
   ]
  },
  {
   "cell_type": "code",
   "execution_count": 102,
   "metadata": {},
   "outputs": [],
   "source": [
    "df_c.loc[:,'Country']=le.fit_transform(df_c['Country'])"
   ]
  },
  {
   "cell_type": "code",
   "execution_count": 108,
   "metadata": {},
   "outputs": [],
   "source": [
    "df_c.loc[:,'Population']=df_c['Population'].apply(int)"
   ]
  },
  {
   "cell_type": "code",
   "execution_count": 109,
   "metadata": {},
   "outputs": [
    {
     "name": "stdout",
     "output_type": "stream",
     "text": [
      "<class 'pandas.core.frame.DataFrame'>\n",
      "Int64Index: 3747 entries, 0 to 6591\n",
      "Data columns (total 9 columns):\n",
      " #   Column               Non-Null Count  Dtype         \n",
      "---  ------               --------------  -----         \n",
      " 0   Date                 3747 non-null   datetime64[ns]\n",
      " 1   Country              3747 non-null   int64         \n",
      " 2   Population           3747 non-null   int64         \n",
      " 3   Total Tests          3747 non-null   float64       \n",
      " 4   Total Cases          3747 non-null   float64       \n",
      " 5   Total Deaths         3747 non-null   float64       \n",
      " 6   Total Recovered      3747 non-null   float64       \n",
      " 7   Serious or Critical  3747 non-null   float64       \n",
      " 8   Active Cases         3747 non-null   float64       \n",
      "dtypes: datetime64[ns](1), float64(6), int64(2)\n",
      "memory usage: 452.7 KB\n"
     ]
    }
   ],
   "source": [
    "df_c.info()"
   ]
  },
  {
   "cell_type": "code",
   "execution_count": 112,
   "metadata": {},
   "outputs": [],
   "source": [
    "df_c.loc[:,'Month']=df_c['Date'].dt.month"
   ]
  },
  {
   "cell_type": "code",
   "execution_count": 114,
   "metadata": {},
   "outputs": [],
   "source": [
    "df_c.loc[:,'Year']=df_c['Date'].dt.year"
   ]
  },
  {
   "cell_type": "code",
   "execution_count": 117,
   "metadata": {},
   "outputs": [
    {
     "data": {
      "text/plain": [
       "2"
      ]
     },
     "execution_count": 117,
     "metadata": {},
     "output_type": "execute_result"
    }
   ],
   "source": [
    "df_c['Month'].nunique()"
   ]
  },
  {
   "cell_type": "code",
   "execution_count": 118,
   "metadata": {},
   "outputs": [
    {
     "data": {
      "text/plain": [
       "1"
      ]
     },
     "execution_count": 118,
     "metadata": {},
     "output_type": "execute_result"
    }
   ],
   "source": [
    "df_c['Year'].nunique()"
   ]
  },
  {
   "cell_type": "code",
   "execution_count": 119,
   "metadata": {},
   "outputs": [],
   "source": [
    "df_c=df_c.drop(['Date','Year'],axis=1)"
   ]
  },
  {
   "cell_type": "code",
   "execution_count": 123,
   "metadata": {},
   "outputs": [
    {
     "data": {
      "image/png": "[encoded data removed]",
      "text/plain": [
       "<Figure size 432x288 with 1 Axes>"
      ]
     },
     "metadata": {
      "needs_background": "light"
     },
     "output_type": "display_data"
    }
   ],
   "source": [
    "df_c.corr()['Total Deaths'].sort_values().drop('Country').plot(kind='bar')\n",
    "plt.show()"
   ]
  },
  {
   "cell_type": "code",
   "execution_count": 124,
   "metadata": {},
   "outputs": [
    {
     "data": {
      "text/plain": [
       "(6603, 9)"
      ]
     },
     "execution_count": 124,
     "metadata": {},
     "output_type": "execute_result"
    }
   ],
   "source": [
    "df.shape"
   ]
  },
  {
   "cell_type": "code",
   "execution_count": 125,
   "metadata": {},
   "outputs": [],
   "source": [
    "zs=zscore(df_c)\n",
    "df_c=df_c[((zs<3) & (zs>-3)).all(axis=1)]"
   ]
  },
  {
   "cell_type": "code",
   "execution_count": 126,
   "metadata": {},
   "outputs": [
    {
     "data": {
      "text/plain": [
       "(6603, 9)"
      ]
     },
     "execution_count": 126,
     "metadata": {},
     "output_type": "execute_result"
    }
   ],
   "source": [
    "df.shape"
   ]
  },
  {
   "cell_type": "code",
   "execution_count": 127,
   "metadata": {},
   "outputs": [],
   "source": [
    "pt=PowerTransformer()"
   ]
  },
  {
   "cell_type": "code",
   "execution_count": 130,
   "metadata": {},
   "outputs": [],
   "source": [
    "for x in df_c.columns:\n",
    "    if abs(df_c.loc[:,x].skew())>0.55:\n",
    "        df_c.loc[:,x]=pt.fit_transform(df_c.loc[:,x].values.reshape(-1,1))"
   ]
  },
  {
   "cell_type": "code",
   "execution_count": 131,
   "metadata": {},
   "outputs": [
    {
     "data": {
      "text/plain": [
       "Country                0.050556\n",
       "Population            -0.055719\n",
       "Total Tests           -0.056152\n",
       "Total Cases           -0.013020\n",
       "Total Deaths           0.060970\n",
       "Total Recovered       -0.002631\n",
       "Serious or Critical    0.119030\n",
       "Active Cases          -0.024778\n",
       "Month                 -0.326847\n",
       "dtype: float64"
      ]
     },
     "execution_count": 131,
     "metadata": {},
     "output_type": "execute_result"
    }
   ],
   "source": [
    "df_c.skew()"
   ]
  },
  {
   "cell_type": "code",
   "execution_count": 133,
   "metadata": {},
   "outputs": [],
   "source": [
    "scale=MinMaxScaler()"
   ]
  },
  {
   "cell_type": "code",
   "execution_count": 135,
   "metadata": {},
   "outputs": [],
   "source": [
    "X=df_c.drop('Total Deaths',axis=1)\n",
    "y=df_c['Total Deaths']"
   ]
  },
  {
   "cell_type": "code",
   "execution_count": 136,
   "metadata": {},
   "outputs": [],
   "source": [
    "X=scale.fit_transform(X)"
   ]
  },
  {
   "cell_type": "code",
   "execution_count": 137,
   "metadata": {},
   "outputs": [],
   "source": [
    "def model(mod):\n",
    "    maxscore=0\n",
    "    maxsstate=0\n",
    "    for x in range(42,105):\n",
    "        X_train, X_test, y_train, y_test = train_test_split(X, y, test_size=0.33, random_state=x)\n",
    "        md=mod()\n",
    "        md.fit(X_train,y_train)\n",
    "        predict=md.predict(X_test)\n",
    "        r2score=r2_score(y_test,predict)\n",
    "        if r2score>maxscore:\n",
    "            maxscore=r2score\n",
    "            maxsstate=x\n",
    "    print(\"Max score is {} and maxstate is {}\".format(maxscore,maxsstate))"
   ]
  },
  {
   "cell_type": "code",
   "execution_count": 138,
   "metadata": {},
   "outputs": [
    {
     "name": "stdout",
     "output_type": "stream",
     "text": [
      "Max score is 0.8404149932513483 and maxstate is 97\n"
     ]
    }
   ],
   "source": [
    "model(LinearRegression)"
   ]
  },
  {
   "cell_type": "code",
   "execution_count": 139,
   "metadata": {},
   "outputs": [
    {
     "name": "stdout",
     "output_type": "stream",
     "text": [
      "Max score is 0.9956640109881191 and maxstate is 43\n"
     ]
    }
   ],
   "source": [
    "model(RandomForestRegressor)"
   ]
  },
  {
   "cell_type": "code",
   "execution_count": 141,
   "metadata": {},
   "outputs": [],
   "source": [
    "X_train, X_test, y_train, y_test = train_test_split(X, y, test_size=0.33, random_state=43)"
   ]
  },
  {
   "cell_type": "code",
   "execution_count": 142,
   "metadata": {},
   "outputs": [
    {
     "data": {
      "text/plain": [
       "0.9850803369694061"
      ]
     },
     "execution_count": 142,
     "metadata": {},
     "output_type": "execute_result"
    }
   ],
   "source": [
    "cross_val_score(RandomForestRegressor(),X_train,y_train,cv=5).mean()"
   ]
  },
  {
   "cell_type": "code",
   "execution_count": 143,
   "metadata": {},
   "outputs": [],
   "source": [
    "param={'n_estimators':[100,130,150,170,190,210,230,250,270,290,310,330,350,370,430]}\n",
    "gscv=GridSearchCV(RandomForestRegressor(),param)"
   ]
  },
  {
   "cell_type": "code",
   "execution_count": 144,
   "metadata": {},
   "outputs": [
    {
     "data": {
      "text/plain": [
       "GridSearchCV(estimator=RandomForestRegressor(),\n",
       "             param_grid={'n_estimators': [100, 130, 150, 170, 190, 210, 230,\n",
       "                                          250, 270, 290, 310, 330, 350, 370,\n",
       "                                          430]})"
      ]
     },
     "execution_count": 144,
     "metadata": {},
     "output_type": "execute_result"
    }
   ],
   "source": [
    "gscv.fit(X_train,y_train)"
   ]
  },
  {
   "cell_type": "code",
   "execution_count": 145,
   "metadata": {},
   "outputs": [
    {
     "data": {
      "text/plain": [
       "{'n_estimators': 230}"
      ]
     },
     "execution_count": 145,
     "metadata": {},
     "output_type": "execute_result"
    }
   ],
   "source": [
    "gscv.best_params_"
   ]
  },
  {
   "cell_type": "code",
   "execution_count": 146,
   "metadata": {},
   "outputs": [],
   "source": [
    "rf=RandomForestRegressor(n_estimators=230)\n",
    "rf.fit(X_train,y_train)\n",
    "predict=rf.predict(X_test)"
   ]
  },
  {
   "cell_type": "code",
   "execution_count": 147,
   "metadata": {},
   "outputs": [
    {
     "name": "stdout",
     "output_type": "stream",
     "text": [
      "R2 score is 0.9956948403380409\n",
      "\n",
      "MAE score is 0.03324794752077731\n",
      "\n",
      "RMSE score is 0.066904144039516\n"
     ]
    }
   ],
   "source": [
    "print(\"R2 score is {}\".format(r2_score(y_test,predict)))\n",
    "print()\n",
    "print(\"MAE score is {}\".format(mean_absolute_error(y_test,predict)))\n",
    "print()\n",
    "print(\"RMSE score is {}\".format(np.sqrt(mean_squared_error(y_test,predict))))"
   ]
  },
  {
   "cell_type": "code",
   "execution_count": 148,
   "metadata": {},
   "outputs": [
    {
     "data": {
      "text/plain": [
       "['Covid RF.obj']"
      ]
     },
     "execution_count": 148,
     "metadata": {},
     "output_type": "execute_result"
    }
   ],
   "source": [
    "joblib.dump(rf,'Covid RF.obj')"
   ]
  }
 ],
 "metadata": {
  "kernelspec": {
   "display_name": "Python 3",
   "language": "python",
   "name": "python3"
  },
  "language_info": {
   "codemirror_mode": {
    "name": "ipython",
    "version": 3
   },
   "file_extension": ".py",
   "mimetype": "text/x-python",
   "name": "python",
   "nbconvert_exporter": "python",
   "pygments_lexer": "ipython3",
   "version": "3.8.3"
  }
 },
 "nbformat": 4,
 "nbformat_minor": 4
}

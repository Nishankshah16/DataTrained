{
 "cells": [
  {
   "cell_type": "code",
   "execution_count": 2,
   "metadata": {},
   "outputs": [],
   "source": [
    "#Generic\n",
    "import pandas as pd, numpy as np, seaborn as sns, matplotlib.pyplot as plt, joblib\n",
    "from scipy.stats import zscore\n",
    "\n",
    "#Encode\n",
    "from sklearn.preprocessing import LabelEncoder, OneHotEncoder\n",
    "\n",
    "#Skewness\n",
    "from sklearn.preprocessing import PowerTransformer\n",
    "\n",
    "#Normalize\n",
    "from sklearn.preprocessing import MinMaxScaler\n",
    "\n",
    "#Impute\n",
    "from sklearn.impute import SimpleImputer\n",
    "\n",
    "#Decomposition\n",
    "from sklearn.decomposition import PCA\n",
    "\n",
    "#Train Test Split\n",
    "from sklearn.model_selection import train_test_split\n",
    "\n",
    "#Metrics\n",
    "from sklearn.metrics import r2_score,mean_absolute_error,mean_squared_error\n",
    "from sklearn.metrics import accuracy_score,roc_curve,auc,classification_report,confusion_matrix\n",
    "\n",
    "#CrossVal\n",
    "from sklearn.model_selection import cross_val_score\n",
    "\n",
    "#RegressionModels\n",
    "from sklearn.linear_model import LinearRegression,Lasso,Ridge,ElasticNet\n",
    "from sklearn.neighbors import KNeighborsRegressor\n",
    "from sklearn.svm import SVR,LinearSVR\n",
    "from sklearn.ensemble import RandomForestRegressor,AdaBoostRegressor\n",
    "from sklearn.tree import DecisionTreeRegressor\n",
    "\n",
    "#ClassificationModels\n",
    "from sklearn.linear_model import LogisticRegression\n",
    "from sklearn.neighbors import KNeighborsClassifier\n",
    "from sklearn.svm import SVC\n",
    "from sklearn.ensemble import RandomForestClassifier,AdaBoostClassifier,BaggingClassifier,GradientBoostingClassifier\n",
    "from sklearn.tree import DecisionTreeClassifier\n",
    "from sklearn.naive_bayes import GaussianNB\n",
    "\n",
    "#Optimization\n",
    "from sklearn.model_selection import GridSearchCV\n",
    "\n",
    "#Deeplearning\n",
    "from tensorflow.keras.models import Sequential\n",
    "from tensorflow.keras.layers import Dense,Dropout\n",
    "from tensorflow.keras.callbacks import EarlyStopping"
   ]
  },
  {
   "cell_type": "code",
   "execution_count": 3,
   "metadata": {},
   "outputs": [],
   "source": [
    "#Import Data\n",
    "df=pd.read_excel('Final_Train.xlsx')"
   ]
  },
  {
   "cell_type": "code",
   "execution_count": 4,
   "metadata": {},
   "outputs": [
    {
     "data": {
      "text/html": [
       "<div>\n",
       "<style scoped>\n",
       "    .dataframe tbody tr th:only-of-type {\n",
       "        vertical-align: middle;\n",
       "    }\n",
       "\n",
       "    .dataframe tbody tr th {\n",
       "        vertical-align: top;\n",
       "    }\n",
       "\n",
       "    .dataframe thead th {\n",
       "        text-align: right;\n",
       "    }\n",
       "</style>\n",
       "<table border=\"1\" class=\"dataframe\">\n",
       "  <thead>\n",
       "    <tr style=\"text-align: right;\">\n",
       "      <th></th>\n",
       "      <th>Qualification</th>\n",
       "      <th>Experience</th>\n",
       "      <th>Rating</th>\n",
       "      <th>Place</th>\n",
       "      <th>Profile</th>\n",
       "      <th>Miscellaneous_Info</th>\n",
       "      <th>Fees</th>\n",
       "    </tr>\n",
       "  </thead>\n",
       "  <tbody>\n",
       "    <tr>\n",
       "      <th>0</th>\n",
       "      <td>BHMS, MD - Homeopathy</td>\n",
       "      <td>24 years experience</td>\n",
       "      <td>100%</td>\n",
       "      <td>Kakkanad, Ernakulam</td>\n",
       "      <td>Homeopath</td>\n",
       "      <td>100% 16 Feedback Kakkanad, Ernakulam</td>\n",
       "      <td>100</td>\n",
       "    </tr>\n",
       "    <tr>\n",
       "      <th>1</th>\n",
       "      <td>BAMS, MD - Ayurveda Medicine</td>\n",
       "      <td>12 years experience</td>\n",
       "      <td>98%</td>\n",
       "      <td>Whitefield, Bangalore</td>\n",
       "      <td>Ayurveda</td>\n",
       "      <td>98% 76 Feedback Whitefield, Bangalore</td>\n",
       "      <td>350</td>\n",
       "    </tr>\n",
       "    <tr>\n",
       "      <th>2</th>\n",
       "      <td>MBBS, MS - Otorhinolaryngology</td>\n",
       "      <td>9 years experience</td>\n",
       "      <td>NaN</td>\n",
       "      <td>Mathikere - BEL, Bangalore</td>\n",
       "      <td>ENT Specialist</td>\n",
       "      <td>NaN</td>\n",
       "      <td>300</td>\n",
       "    </tr>\n",
       "    <tr>\n",
       "      <th>3</th>\n",
       "      <td>BSc - Zoology, BAMS</td>\n",
       "      <td>12 years experience</td>\n",
       "      <td>NaN</td>\n",
       "      <td>Bannerghatta Road, Bangalore</td>\n",
       "      <td>Ayurveda</td>\n",
       "      <td>Bannerghatta Road, Bangalore ₹250 Available on...</td>\n",
       "      <td>250</td>\n",
       "    </tr>\n",
       "    <tr>\n",
       "      <th>4</th>\n",
       "      <td>BAMS</td>\n",
       "      <td>20 years experience</td>\n",
       "      <td>100%</td>\n",
       "      <td>Keelkattalai, Chennai</td>\n",
       "      <td>Ayurveda</td>\n",
       "      <td>100% 4 Feedback Keelkattalai, Chennai</td>\n",
       "      <td>250</td>\n",
       "    </tr>\n",
       "  </tbody>\n",
       "</table>\n",
       "</div>"
      ],
      "text/plain": [
       "                    Qualification           Experience Rating  \\\n",
       "0           BHMS, MD - Homeopathy  24 years experience   100%   \n",
       "1    BAMS, MD - Ayurveda Medicine  12 years experience    98%   \n",
       "2  MBBS, MS - Otorhinolaryngology   9 years experience    NaN   \n",
       "3             BSc - Zoology, BAMS  12 years experience    NaN   \n",
       "4                            BAMS  20 years experience   100%   \n",
       "\n",
       "                          Place         Profile  \\\n",
       "0           Kakkanad, Ernakulam       Homeopath   \n",
       "1         Whitefield, Bangalore        Ayurveda   \n",
       "2    Mathikere - BEL, Bangalore  ENT Specialist   \n",
       "3  Bannerghatta Road, Bangalore        Ayurveda   \n",
       "4         Keelkattalai, Chennai        Ayurveda   \n",
       "\n",
       "                                  Miscellaneous_Info  Fees  \n",
       "0               100% 16 Feedback Kakkanad, Ernakulam   100  \n",
       "1              98% 76 Feedback Whitefield, Bangalore   350  \n",
       "2                                                NaN   300  \n",
       "3  Bannerghatta Road, Bangalore ₹250 Available on...   250  \n",
       "4              100% 4 Feedback Keelkattalai, Chennai   250  "
      ]
     },
     "execution_count": 4,
     "metadata": {},
     "output_type": "execute_result"
    }
   ],
   "source": [
    "#Check head\n",
    "df.head()"
   ]
  },
  {
   "cell_type": "code",
   "execution_count": 5,
   "metadata": {},
   "outputs": [
    {
     "name": "stdout",
     "output_type": "stream",
     "text": [
      "<class 'pandas.core.frame.DataFrame'>\n",
      "RangeIndex: 5961 entries, 0 to 5960\n",
      "Data columns (total 7 columns):\n",
      " #   Column              Non-Null Count  Dtype \n",
      "---  ------              --------------  ----- \n",
      " 0   Qualification       5961 non-null   object\n",
      " 1   Experience          5961 non-null   object\n",
      " 2   Rating              2659 non-null   object\n",
      " 3   Place               5936 non-null   object\n",
      " 4   Profile             5961 non-null   object\n",
      " 5   Miscellaneous_Info  3341 non-null   object\n",
      " 6   Fees                5961 non-null   int64 \n",
      "dtypes: int64(1), object(6)\n",
      "memory usage: 326.1+ KB\n"
     ]
    }
   ],
   "source": [
    "#Check Info\n",
    "df.info()"
   ]
  },
  {
   "cell_type": "code",
   "execution_count": 6,
   "metadata": {},
   "outputs": [
    {
     "data": {
      "text/plain": [
       "Qualification            0\n",
       "Experience               0\n",
       "Rating                3302\n",
       "Place                   25\n",
       "Profile                  0\n",
       "Miscellaneous_Info    2620\n",
       "Fees                     0\n",
       "dtype: int64"
      ]
     },
     "execution_count": 6,
     "metadata": {},
     "output_type": "execute_result"
    }
   ],
   "source": [
    "#Check missing values\n",
    "df.isna().sum()"
   ]
  },
  {
   "cell_type": "code",
   "execution_count": 7,
   "metadata": {},
   "outputs": [
    {
     "data": {
      "text/html": [
       "<div>\n",
       "<style scoped>\n",
       "    .dataframe tbody tr th:only-of-type {\n",
       "        vertical-align: middle;\n",
       "    }\n",
       "\n",
       "    .dataframe tbody tr th {\n",
       "        vertical-align: top;\n",
       "    }\n",
       "\n",
       "    .dataframe thead th {\n",
       "        text-align: right;\n",
       "    }\n",
       "</style>\n",
       "<table border=\"1\" class=\"dataframe\">\n",
       "  <thead>\n",
       "    <tr style=\"text-align: right;\">\n",
       "      <th></th>\n",
       "      <th>Fees</th>\n",
       "    </tr>\n",
       "  </thead>\n",
       "  <tbody>\n",
       "    <tr>\n",
       "      <th>count</th>\n",
       "      <td>5961.000000</td>\n",
       "    </tr>\n",
       "    <tr>\n",
       "      <th>mean</th>\n",
       "      <td>307.944640</td>\n",
       "    </tr>\n",
       "    <tr>\n",
       "      <th>std</th>\n",
       "      <td>190.920373</td>\n",
       "    </tr>\n",
       "    <tr>\n",
       "      <th>min</th>\n",
       "      <td>5.000000</td>\n",
       "    </tr>\n",
       "    <tr>\n",
       "      <th>25%</th>\n",
       "      <td>150.000000</td>\n",
       "    </tr>\n",
       "    <tr>\n",
       "      <th>50%</th>\n",
       "      <td>300.000000</td>\n",
       "    </tr>\n",
       "    <tr>\n",
       "      <th>75%</th>\n",
       "      <td>500.000000</td>\n",
       "    </tr>\n",
       "    <tr>\n",
       "      <th>max</th>\n",
       "      <td>950.000000</td>\n",
       "    </tr>\n",
       "  </tbody>\n",
       "</table>\n",
       "</div>"
      ],
      "text/plain": [
       "              Fees\n",
       "count  5961.000000\n",
       "mean    307.944640\n",
       "std     190.920373\n",
       "min       5.000000\n",
       "25%     150.000000\n",
       "50%     300.000000\n",
       "75%     500.000000\n",
       "max     950.000000"
      ]
     },
     "execution_count": 7,
     "metadata": {},
     "output_type": "execute_result"
    }
   ],
   "source": [
    "df.describe()"
   ]
  },
  {
   "cell_type": "code",
   "execution_count": 8,
   "metadata": {},
   "outputs": [
    {
     "data": {
      "text/plain": [
       "100%    684\n",
       "98%     290\n",
       "99%     259\n",
       "97%     241\n",
       "96%     220\n",
       "Name: Rating, dtype: int64"
      ]
     },
     "execution_count": 8,
     "metadata": {},
     "output_type": "execute_result"
    }
   ],
   "source": [
    "df['Rating'].value_counts().head()"
   ]
  },
  {
   "cell_type": "code",
   "execution_count": 9,
   "metadata": {},
   "outputs": [],
   "source": [
    "def rat_impute(x):\n",
    "    if pd.isnull(x):\n",
    "        return x\n",
    "    else:\n",
    "        return int(x[:x.find('%')])"
   ]
  },
  {
   "cell_type": "code",
   "execution_count": 10,
   "metadata": {},
   "outputs": [],
   "source": [
    "df['Rating']=df.apply(lambda x:rat_impute(x['Rating']),axis=1)"
   ]
  },
  {
   "cell_type": "code",
   "execution_count": 11,
   "metadata": {},
   "outputs": [
    {
     "data": {
      "text/plain": [
       "100.0    684\n",
       "98.0     290\n",
       "99.0     259\n",
       "97.0     241\n",
       "96.0     220\n",
       "Name: Rating, dtype: int64"
      ]
     },
     "execution_count": 11,
     "metadata": {},
     "output_type": "execute_result"
    }
   ],
   "source": [
    "df['Rating'].value_counts().head()"
   ]
  },
  {
   "cell_type": "code",
   "execution_count": 12,
   "metadata": {},
   "outputs": [],
   "source": [
    "si=SimpleImputer(strategy='mean')"
   ]
  },
  {
   "cell_type": "code",
   "execution_count": 13,
   "metadata": {},
   "outputs": [],
   "source": [
    "df['Rating']=si.fit_transform(df['Rating'].values.reshape(-1,1))"
   ]
  },
  {
   "cell_type": "code",
   "execution_count": 14,
   "metadata": {},
   "outputs": [
    {
     "data": {
      "text/plain": [
       "0                BHMS, MD - Homeopathy\n",
       "1         BAMS, MD - Ayurveda Medicine\n",
       "2       MBBS, MS - Otorhinolaryngology\n",
       "3                  BSc - Zoology, BAMS\n",
       "4                                 BAMS\n",
       "                     ...              \n",
       "5956                    MBBS, MS - ENT\n",
       "5957                              MBBS\n",
       "5958                              MBBS\n",
       "5959       MBBS, MD - General Medicine\n",
       "5960           BDS, MDS - Orthodontics\n",
       "Name: Qualification, Length: 5961, dtype: object"
      ]
     },
     "execution_count": 14,
     "metadata": {},
     "output_type": "execute_result"
    }
   ],
   "source": [
    "df['Qualification']"
   ]
  },
  {
   "cell_type": "code",
   "execution_count": 15,
   "metadata": {},
   "outputs": [
    {
     "data": {
      "text/plain": [
       "array(['BHMS, MD - Homeopathy', 'BAMS, MD - Ayurveda Medicine',\n",
       "       'MBBS, MS - Otorhinolaryngology', ...,\n",
       "       'MD - Dermatology , Venereology & Leprosy, MBBS, Fellowship In Dermatosurgery',\n",
       "       'BDS, certification in smile designing',\n",
       "       'MD - Homeopathy, Post Graduate Diploma in Healthcare Management(PGDHM), DHMS (Diploma in Homeopathic Medicine and Surgery)'],\n",
       "      dtype=object)"
      ]
     },
     "execution_count": 15,
     "metadata": {},
     "output_type": "execute_result"
    }
   ],
   "source": [
    "df['Qualification'].unique()"
   ]
  },
  {
   "cell_type": "code",
   "execution_count": 16,
   "metadata": {},
   "outputs": [
    {
     "data": {
      "text/plain": [
       "1420"
      ]
     },
     "execution_count": 16,
     "metadata": {},
     "output_type": "execute_result"
    }
   ],
   "source": [
    "df['Qualification'].nunique()"
   ]
  },
  {
   "cell_type": "code",
   "execution_count": 17,
   "metadata": {},
   "outputs": [],
   "source": [
    "def qual_impute1(x):\n",
    "    if ',' in x:\n",
    "        return x[:x.find(',')].strip()\n",
    "    else:\n",
    "        return x"
   ]
  },
  {
   "cell_type": "code",
   "execution_count": 18,
   "metadata": {},
   "outputs": [],
   "source": [
    "df['Qualification_Degree']=df.apply(lambda x:qual_impute1(x['Qualification']),axis=1)"
   ]
  },
  {
   "cell_type": "code",
   "execution_count": 19,
   "metadata": {},
   "outputs": [
    {
     "data": {
      "text/plain": [
       "150"
      ]
     },
     "execution_count": 19,
     "metadata": {},
     "output_type": "execute_result"
    }
   ],
   "source": [
    "df['Qualification_Degree'].nunique()"
   ]
  },
  {
   "cell_type": "code",
   "execution_count": 20,
   "metadata": {},
   "outputs": [
    {
     "data": {
      "text/plain": [
       "MBBS                                             2448\n",
       "BDS                                              1208\n",
       "BAMS                                              711\n",
       "BHMS                                              706\n",
       "MD - Dermatology                                  146\n",
       "                                                 ... \n",
       "DNB - Orthopedics/Orthopedic Surgery                1\n",
       "Certified In Panchkarma                             1\n",
       "FAGE                                                1\n",
       "MRCPCH (UK)                                         1\n",
       "Fellowship In Laryngology Bronchoesophagology       1\n",
       "Name: Qualification_Degree, Length: 150, dtype: int64"
      ]
     },
     "execution_count": 20,
     "metadata": {},
     "output_type": "execute_result"
    }
   ],
   "source": [
    "df['Qualification_Degree'].value_counts()"
   ]
  },
  {
   "cell_type": "code",
   "execution_count": 21,
   "metadata": {},
   "outputs": [],
   "source": [
    "def qual_impute2(x):\n",
    "    if '-' in x:\n",
    "        return x[:x.find('-')].strip()\n",
    "    else:\n",
    "        return x"
   ]
  },
  {
   "cell_type": "code",
   "execution_count": 22,
   "metadata": {},
   "outputs": [],
   "source": [
    "df['Qualification_Degree']=df.apply(lambda x:qual_impute2(x['Qualification_Degree']),axis=1)"
   ]
  },
  {
   "cell_type": "code",
   "execution_count": 23,
   "metadata": {
    "scrolled": false
   },
   "outputs": [],
   "source": [
    "df['Qualification_Degree']=df['Qualification_Degree'].apply(lambda x:x.upper())"
   ]
  },
  {
   "cell_type": "code",
   "execution_count": 24,
   "metadata": {},
   "outputs": [
    {
     "data": {
      "text/plain": [
       "MBBS                                         2448\n",
       "BDS                                          1208\n",
       "BAMS                                          711\n",
       "BHMS                                          706\n",
       "MD                                            327\n",
       "                                             ... \n",
       "DIPLOMATE OF NATIONAL BOARD EXAM                1\n",
       "MEMBER OF THE ROYAL COLLEGE OF PHYSICIANS       1\n",
       "D.H.M                                           1\n",
       "FELLOWSHIP IN CLINICAL COSMETOLOGY              1\n",
       "GRADUATE DIPLOMA IN FAMILY MEDICINE             1\n",
       "Name: Qualification_Degree, Length: 94, dtype: int64"
      ]
     },
     "execution_count": 24,
     "metadata": {},
     "output_type": "execute_result"
    }
   ],
   "source": [
    "df['Qualification_Degree'].value_counts()"
   ]
  },
  {
   "cell_type": "code",
   "execution_count": 25,
   "metadata": {},
   "outputs": [
    {
     "data": {
      "text/plain": [
       "94"
      ]
     },
     "execution_count": 25,
     "metadata": {},
     "output_type": "execute_result"
    }
   ],
   "source": [
    "df['Qualification_Degree'].nunique()"
   ]
  },
  {
   "cell_type": "code",
   "execution_count": 26,
   "metadata": {},
   "outputs": [
    {
     "data": {
      "text/plain": [
       "array(['BHMS', 'BAMS', 'MBBS', 'BSC', 'BDS', 'MDS',\n",
       "       'DIPLOMA IN DERMATOLOGY', 'DM', 'MD',\n",
       "       'GET INSPIRED BY REMARKABLE STORIES OF PEOPLE LIKE YOU', 'PHD',\n",
       "       'MRCPS', 'MS', 'DDVL',\n",
       "       'DHMS (DIPLOMA IN HOMEOPATHIC MEDICINE AND SURGERY)', 'GCEH',\n",
       "       'POST GRADUATE DIPLOMA IN HEALTHCARE MANAGEMENT(PGDHM)', 'DNB',\n",
       "       'CERTIFICATION IN AESTHETIC DENTISTRY',\n",
       "       'FELLOWSHIP IN LARYNGOLOGY BRONCHOESOPHAGOLOGY', 'FAGE',\n",
       "       'FELLOWSHIP IN AESTHETIC MEDICINE', 'BSAM',\n",
       "       'DIPLOMA IN FAMILY MEDICINE (DFM)', 'FNB',\n",
       "       'POST GRADUATE DIPLOMA IN DERMOTOLOGY (PGDD)',\n",
       "       'CERTIFICATE OF ORAL IMPLANTOLOGY', 'CERTIFIED IN PANCHKARMA',\n",
       "       '39 YEARS EXPERIENCE', 'LCEH',\n",
       "       'DOCTOR OF HOMEOPATHIC MEDICINE (HMD)',\n",
       "       'DIPLOMA IN CHILD HEALTH (DCH)',\n",
       "       'DIPLOMA IN OTORHINOLARYNGOLOGY (DLO)',\n",
       "       'DIPLOMATE OF NATIONAL BOARD EXAM', 'MSC',\n",
       "       'FELLOWSHIP AND DIPLOMATE IN IMPLANTOLOGY FROM ICOI (USA)',\n",
       "       'POST DOCTORAL FELLOWSHIP IN DIABETOLOGY',\n",
       "       'ADVANCED CERTIFICATE COURSE IN AESTHETIC DENTISTRY',\n",
       "       'DIPLOMA IN MEDICAL TRICHOLOGY', 'FCPS', 'G.A.M.S', 'BUMS',\n",
       "       'DIPLOMA IN DIET AND NUTRITION', 'MBA',\n",
       "       'TRAINING IN FACIAL AESTHETICS', 'PG DIPLOMA IN CHILD HEALTH',\n",
       "       'POST GRADUATE IN HOMOEOPATHY', 'FELLOWSHIP IN ORAL IMPLANTLOGY',\n",
       "       'B.SC', 'POST GRADUATE DIPLOMA IN DIABETOLOGY (PGDD)', 'M.CH',\n",
       "       'DDV', 'FELLOWSHIP IN HEAD & NECK ONCOLOGY SURGERY', 'BEMS',\n",
       "       'MRCS (UK)',\n",
       "       'POST GRADUATE DIPLOMA IN PERIODONTICS AND IMPLANTOLOGY', 'MA',\n",
       "       'POST MD SR AIIMS', 'MPH', 'GRADUATE DIPLOMA IN FAMILY MEDICINE',\n",
       "       'MRCPCH (UK)', 'FRCS', 'B.AC', 'M.D. (E.H)', 'BIMS',\n",
       "       'DIPLOMA IN TRICHOLOGY', 'DVD', 'CERTIFICATE IN DENTAL IMPLANTS',\n",
       "       'AYURVEDIC PANCHKARMA', 'D.H.M',\n",
       "       'MEMBER OF THE ROYAL COLLEGE OF PHYSICIANS',\n",
       "       'DIPLOMA IN SKIN & VINEREAL DISEASE',\n",
       "       'POST GRADUATE DIPLOMA IN DIABETIC EDUCATION',\n",
       "       'FELLOWSHIP IN DIABETOLOGY', 'MRCGP',\n",
       "       'DIPLOMA IN NATUROPATHY & YOGIC SCIENCE (DNYT)', 'MRCP (UK)',\n",
       "       'CGO', 'PGD ND', 'M.SC', 'DNHE',\n",
       "       'DOCTORATE OF MEDICINE IN ELECTRO HOMOEOPATHY(MDEH)', 'FRGUHS',\n",
       "       'M. D. HOM. (PRACTICE OF MEDICINE)', 'FRCP',\n",
       "       'FELLOWSHIP IN CLINICAL COSMETOLOGY', 'COCHLEAR IMPLANT SURGERY',\n",
       "       'CERTIFICATION OF AESTHETIC DENTISTRY & PERIODONTICS',\n",
       "       'MD AYURVED AND YOG', 'CERTIFICATION COURSE IN DIABETES',\n",
       "       'MASTERS DIPLOMA IN ACUPRESSURE', 'PDCC', 'FFDRCSI', 'DGO'],\n",
       "      dtype=object)"
      ]
     },
     "execution_count": 26,
     "metadata": {},
     "output_type": "execute_result"
    }
   ],
   "source": [
    "df['Qualification_Degree'].unique()"
   ]
  },
  {
   "cell_type": "code",
   "execution_count": 27,
   "metadata": {},
   "outputs": [
    {
     "data": {
      "text/plain": [
       "(5961, 8)"
      ]
     },
     "execution_count": 27,
     "metadata": {},
     "output_type": "execute_result"
    }
   ],
   "source": [
    "df.shape"
   ]
  },
  {
   "cell_type": "code",
   "execution_count": 28,
   "metadata": {},
   "outputs": [],
   "source": [
    "df.loc[df['Qualification_Degree'].str.contains('DIPLOMA'),'Qualification_Degree']='DIPLOMA'"
   ]
  },
  {
   "cell_type": "code",
   "execution_count": 29,
   "metadata": {},
   "outputs": [
    {
     "data": {
      "text/html": [
       "<div>\n",
       "<style scoped>\n",
       "    .dataframe tbody tr th:only-of-type {\n",
       "        vertical-align: middle;\n",
       "    }\n",
       "\n",
       "    .dataframe tbody tr th {\n",
       "        vertical-align: top;\n",
       "    }\n",
       "\n",
       "    .dataframe thead th {\n",
       "        text-align: right;\n",
       "    }\n",
       "</style>\n",
       "<table border=\"1\" class=\"dataframe\">\n",
       "  <thead>\n",
       "    <tr style=\"text-align: right;\">\n",
       "      <th></th>\n",
       "      <th>Qualification</th>\n",
       "      <th>Experience</th>\n",
       "      <th>Rating</th>\n",
       "      <th>Place</th>\n",
       "      <th>Profile</th>\n",
       "      <th>Miscellaneous_Info</th>\n",
       "      <th>Fees</th>\n",
       "      <th>Qualification_Degree</th>\n",
       "    </tr>\n",
       "  </thead>\n",
       "  <tbody>\n",
       "    <tr>\n",
       "      <th>29</th>\n",
       "      <td>Diploma in Dermatology, MBBS</td>\n",
       "      <td>15 years experience</td>\n",
       "      <td>97.000000</td>\n",
       "      <td>Defence Colony, Delhi</td>\n",
       "      <td>Dermatologists</td>\n",
       "      <td>97% 60 Feedback Defence Colony, Delhi</td>\n",
       "      <td>500</td>\n",
       "      <td>DIPLOMA</td>\n",
       "    </tr>\n",
       "    <tr>\n",
       "      <th>155</th>\n",
       "      <td>DHMS (Diploma in Homeopathic Medicine and Surg...</td>\n",
       "      <td>35 years experience</td>\n",
       "      <td>100.000000</td>\n",
       "      <td>T Nagar, Chennai</td>\n",
       "      <td>Homeopath</td>\n",
       "      <td>100% 4 Feedback T Nagar, Chennai</td>\n",
       "      <td>500</td>\n",
       "      <td>DIPLOMA</td>\n",
       "    </tr>\n",
       "    <tr>\n",
       "      <th>192</th>\n",
       "      <td>DHMS (Diploma in Homeopathic Medicine and Surg...</td>\n",
       "      <td>27 years experience</td>\n",
       "      <td>94.643475</td>\n",
       "      <td>Indiranagar, Bangalore</td>\n",
       "      <td>Homeopath</td>\n",
       "      <td>NaN</td>\n",
       "      <td>500</td>\n",
       "      <td>DIPLOMA</td>\n",
       "    </tr>\n",
       "    <tr>\n",
       "      <th>231</th>\n",
       "      <td>DHMS (Diploma in Homeopathic Medicine and Surg...</td>\n",
       "      <td>37 years experience</td>\n",
       "      <td>94.643475</td>\n",
       "      <td>Kodambakkam, Chennai</td>\n",
       "      <td>Homeopath</td>\n",
       "      <td>NaN</td>\n",
       "      <td>200</td>\n",
       "      <td>DIPLOMA</td>\n",
       "    </tr>\n",
       "    <tr>\n",
       "      <th>236</th>\n",
       "      <td>Post Graduate Diploma in Healthcare Management...</td>\n",
       "      <td>40 years experience</td>\n",
       "      <td>94.643475</td>\n",
       "      <td>Secunderabad, Hyderabad</td>\n",
       "      <td>General Medicine</td>\n",
       "      <td>NaN</td>\n",
       "      <td>500</td>\n",
       "      <td>DIPLOMA</td>\n",
       "    </tr>\n",
       "  </tbody>\n",
       "</table>\n",
       "</div>"
      ],
      "text/plain": [
       "                                         Qualification           Experience  \\\n",
       "29                        Diploma in Dermatology, MBBS  15 years experience   \n",
       "155  DHMS (Diploma in Homeopathic Medicine and Surg...  35 years experience   \n",
       "192  DHMS (Diploma in Homeopathic Medicine and Surg...  27 years experience   \n",
       "231  DHMS (Diploma in Homeopathic Medicine and Surg...  37 years experience   \n",
       "236  Post Graduate Diploma in Healthcare Management...  40 years experience   \n",
       "\n",
       "         Rating                    Place           Profile  \\\n",
       "29    97.000000    Defence Colony, Delhi    Dermatologists   \n",
       "155  100.000000         T Nagar, Chennai         Homeopath   \n",
       "192   94.643475   Indiranagar, Bangalore         Homeopath   \n",
       "231   94.643475     Kodambakkam, Chennai         Homeopath   \n",
       "236   94.643475  Secunderabad, Hyderabad  General Medicine   \n",
       "\n",
       "                        Miscellaneous_Info  Fees Qualification_Degree  \n",
       "29   97% 60 Feedback Defence Colony, Delhi   500              DIPLOMA  \n",
       "155       100% 4 Feedback T Nagar, Chennai   500              DIPLOMA  \n",
       "192                                    NaN   500              DIPLOMA  \n",
       "231                                    NaN   200              DIPLOMA  \n",
       "236                                    NaN   500              DIPLOMA  "
      ]
     },
     "execution_count": 29,
     "metadata": {},
     "output_type": "execute_result"
    }
   ],
   "source": [
    "df.loc[df['Qualification_Degree'].str.contains('DIPLOMA')].head()"
   ]
  },
  {
   "cell_type": "code",
   "execution_count": 30,
   "metadata": {},
   "outputs": [
    {
     "data": {
      "text/plain": [
       "MBBS                                             2448\n",
       "BDS                                              1208\n",
       "BAMS                                              711\n",
       "BHMS                                              706\n",
       "MD                                                327\n",
       "                                                 ... \n",
       "DNHE                                                1\n",
       "FRGUHS                                              1\n",
       "MBA                                                 1\n",
       "FRCP                                                1\n",
       "FELLOWSHIP IN LARYNGOLOGY BRONCHOESOPHAGOLOGY       1\n",
       "Name: Qualification_Degree, Length: 75, dtype: int64"
      ]
     },
     "execution_count": 30,
     "metadata": {},
     "output_type": "execute_result"
    }
   ],
   "source": [
    "df['Qualification_Degree'].value_counts()"
   ]
  },
  {
   "cell_type": "code",
   "execution_count": 31,
   "metadata": {},
   "outputs": [
    {
     "data": {
      "text/plain": [
       "75"
      ]
     },
     "execution_count": 31,
     "metadata": {},
     "output_type": "execute_result"
    }
   ],
   "source": [
    "df['Qualification_Degree'].nunique()"
   ]
  },
  {
   "cell_type": "code",
   "execution_count": 32,
   "metadata": {},
   "outputs": [],
   "source": [
    "# df=df[df['Qualification_Degree'].str.len()<10]"
   ]
  },
  {
   "cell_type": "code",
   "execution_count": 33,
   "metadata": {},
   "outputs": [
    {
     "data": {
      "text/plain": [
       "(5961, 8)"
      ]
     },
     "execution_count": 33,
     "metadata": {},
     "output_type": "execute_result"
    }
   ],
   "source": [
    "df.shape"
   ]
  },
  {
   "cell_type": "code",
   "execution_count": 34,
   "metadata": {},
   "outputs": [],
   "source": [
    "for x in df['Qualification_Degree'].value_counts().index.tolist():\n",
    "    if df[df['Qualification_Degree']==x].count()['Qualification_Degree']<10:\n",
    "        df=df[df['Qualification_Degree']!=x]"
   ]
  },
  {
   "cell_type": "code",
   "execution_count": 35,
   "metadata": {},
   "outputs": [
    {
     "data": {
      "text/plain": [
       "(5850, 8)"
      ]
     },
     "execution_count": 35,
     "metadata": {},
     "output_type": "execute_result"
    }
   ],
   "source": [
    "df.shape"
   ]
  },
  {
   "cell_type": "code",
   "execution_count": 36,
   "metadata": {},
   "outputs": [
    {
     "data": {
      "text/plain": [
       "array(['BHMS', 'BAMS', 'MBBS', 'BDS', 'MDS', 'DIPLOMA', 'MD',\n",
       "       'GET INSPIRED BY REMARKABLE STORIES OF PEOPLE LIKE YOU', 'MS',\n",
       "       'DDVL', 'DNB', 'LCEH'], dtype=object)"
      ]
     },
     "execution_count": 36,
     "metadata": {},
     "output_type": "execute_result"
    }
   ],
   "source": [
    "df['Qualification_Degree'].unique()"
   ]
  },
  {
   "cell_type": "code",
   "execution_count": 37,
   "metadata": {},
   "outputs": [],
   "source": [
    "df=df[df['Qualification_Degree']!='GET INSPIRED BY REMARKABLE STORIES OF PEOPLE LIKE YOU']"
   ]
  },
  {
   "cell_type": "code",
   "execution_count": 38,
   "metadata": {},
   "outputs": [
    {
     "data": {
      "text/plain": [
       "(5826, 8)"
      ]
     },
     "execution_count": 38,
     "metadata": {},
     "output_type": "execute_result"
    }
   ],
   "source": [
    "df.shape"
   ]
  },
  {
   "cell_type": "code",
   "execution_count": 39,
   "metadata": {},
   "outputs": [
    {
     "data": {
      "image/png": "[encoded data removed]",
      "text/plain": [
       "<Figure size 720x432 with 1 Axes>"
      ]
     },
     "metadata": {
      "needs_background": "light"
     },
     "output_type": "display_data"
    }
   ],
   "source": [
    "plt.figure(figsize=(10,6))\n",
    "sns.lineplot(x='Qualification_Degree',y='Fees',data=df)\n",
    "plt.show()"
   ]
  },
  {
   "cell_type": "code",
   "execution_count": 40,
   "metadata": {},
   "outputs": [
    {
     "data": {
      "image/png": "[encoded data removed]",
      "text/plain": [
       "<Figure size 720x432 with 1 Axes>"
      ]
     },
     "metadata": {
      "needs_background": "light"
     },
     "output_type": "display_data"
    }
   ],
   "source": [
    "plt.figure(figsize=(10,6))\n",
    "sns.boxplot(x='Qualification_Degree',y='Fees',data=df)\n",
    "plt.show()"
   ]
  },
  {
   "cell_type": "code",
   "execution_count": 41,
   "metadata": {},
   "outputs": [],
   "source": [
    "# le=LabelEncoder()"
   ]
  },
  {
   "cell_type": "code",
   "execution_count": 42,
   "metadata": {},
   "outputs": [],
   "source": [
    "# df['Qualification_Degree']=le.fit_transform(df['Qualification_Degree'])"
   ]
  },
  {
   "cell_type": "code",
   "execution_count": 43,
   "metadata": {},
   "outputs": [],
   "source": [
    "df=pd.concat([df.drop('Qualification_Degree',axis=1),pd.get_dummies(df['Qualification_Degree'])],axis=1)"
   ]
  },
  {
   "cell_type": "code",
   "execution_count": 44,
   "metadata": {},
   "outputs": [],
   "source": [
    "df=df.drop('Qualification',axis=1)"
   ]
  },
  {
   "cell_type": "code",
   "execution_count": 45,
   "metadata": {},
   "outputs": [],
   "source": [
    "# df=df.drop('Qualification',axis=1)\n",
    "# df=df.drop('Qualification_Degree',axis=1)"
   ]
  },
  {
   "cell_type": "code",
   "execution_count": 46,
   "metadata": {},
   "outputs": [],
   "source": [
    "df['Experience']=df['Experience'].apply(lambda x:int(x[:x.find('y')].strip()))"
   ]
  },
  {
   "cell_type": "code",
   "execution_count": 47,
   "metadata": {},
   "outputs": [
    {
     "data": {
      "image/png": "[encoded data removed]",
      "text/plain": [
       "<Figure size 720x432 with 1 Axes>"
      ]
     },
     "metadata": {
      "needs_background": "light"
     },
     "output_type": "display_data"
    }
   ],
   "source": [
    "plt.figure(figsize=(10,6))\n",
    "sns.lineplot(x='Experience',y='Fees',data=df)\n",
    "plt.show()"
   ]
  },
  {
   "cell_type": "code",
   "execution_count": 48,
   "metadata": {},
   "outputs": [
    {
     "data": {
      "text/plain": [
       "HSR Layout, Bangalore            73\n",
       "Andheri West, Mumbai             69\n",
       "Dwarka, Delhi                    66\n",
       "Banjara Hills, Hyderabad         63\n",
       "Borivali West, Mumbai            52\n",
       "                                 ..\n",
       "Jagriti Enclave, Delhi            1\n",
       "e                                 1\n",
       "TVM Fort, Thiruvananthapuram      1\n",
       "Changampuzha Nagar, Ernakulam     1\n",
       "Rohini Sector 24, Delhi           1\n",
       "Name: Place, Length: 866, dtype: int64"
      ]
     },
     "execution_count": 48,
     "metadata": {},
     "output_type": "execute_result"
    }
   ],
   "source": [
    "df['Place'].value_counts()"
   ]
  },
  {
   "cell_type": "code",
   "execution_count": 49,
   "metadata": {},
   "outputs": [],
   "source": [
    "# def plac_impute1(x):\n",
    "#     if pd.isnull(x) == True:\n",
    "#         return x\n",
    "#     else:\n",
    "#         return x[:x.find(',')].strip()"
   ]
  },
  {
   "cell_type": "code",
   "execution_count": 50,
   "metadata": {},
   "outputs": [],
   "source": [
    "# df['Locality']=df.apply(lambda x : plac_impute1(x['Place']),axis=1)"
   ]
  },
  {
   "cell_type": "code",
   "execution_count": 51,
   "metadata": {},
   "outputs": [],
   "source": [
    "def plac_impute2(x):\n",
    "    if pd.isnull(x) == True:\n",
    "        return x\n",
    "    else:\n",
    "        return x[x.find(',')+1:].strip()"
   ]
  },
  {
   "cell_type": "code",
   "execution_count": 52,
   "metadata": {},
   "outputs": [],
   "source": [
    "df['Place']=df.apply(lambda x : plac_impute2(x['Place']),axis=1)"
   ]
  },
  {
   "cell_type": "code",
   "execution_count": 53,
   "metadata": {},
   "outputs": [
    {
     "data": {
      "text/plain": [
       "Bangalore             1236\n",
       "Mumbai                1192\n",
       "Delhi                 1160\n",
       "Hyderabad              938\n",
       "Chennai                841\n",
       "Coimbatore             223\n",
       "Ernakulam              149\n",
       "Thiruvananthapuram      84\n",
       "Sector 5, Delhi          1\n",
       "e                        1\n",
       "Name: Place, dtype: int64"
      ]
     },
     "execution_count": 53,
     "metadata": {},
     "output_type": "execute_result"
    }
   ],
   "source": [
    "df['Place'].value_counts()"
   ]
  },
  {
   "cell_type": "code",
   "execution_count": 54,
   "metadata": {},
   "outputs": [
    {
     "data": {
      "text/html": [
       "<div>\n",
       "<style scoped>\n",
       "    .dataframe tbody tr th:only-of-type {\n",
       "        vertical-align: middle;\n",
       "    }\n",
       "\n",
       "    .dataframe tbody tr th {\n",
       "        vertical-align: top;\n",
       "    }\n",
       "\n",
       "    .dataframe thead th {\n",
       "        text-align: right;\n",
       "    }\n",
       "</style>\n",
       "<table border=\"1\" class=\"dataframe\">\n",
       "  <thead>\n",
       "    <tr style=\"text-align: right;\">\n",
       "      <th></th>\n",
       "      <th>Experience</th>\n",
       "      <th>Rating</th>\n",
       "      <th>Place</th>\n",
       "      <th>Profile</th>\n",
       "      <th>Miscellaneous_Info</th>\n",
       "      <th>Fees</th>\n",
       "      <th>BAMS</th>\n",
       "      <th>BDS</th>\n",
       "      <th>BHMS</th>\n",
       "      <th>DDVL</th>\n",
       "      <th>DIPLOMA</th>\n",
       "      <th>DNB</th>\n",
       "      <th>LCEH</th>\n",
       "      <th>MBBS</th>\n",
       "      <th>MD</th>\n",
       "      <th>MDS</th>\n",
       "      <th>MS</th>\n",
       "    </tr>\n",
       "  </thead>\n",
       "  <tbody>\n",
       "    <tr>\n",
       "      <th>3980</th>\n",
       "      <td>23</td>\n",
       "      <td>94.643475</td>\n",
       "      <td>e</td>\n",
       "      <td>Dentist</td>\n",
       "      <td>NaN</td>\n",
       "      <td>250</td>\n",
       "      <td>0</td>\n",
       "      <td>1</td>\n",
       "      <td>0</td>\n",
       "      <td>0</td>\n",
       "      <td>0</td>\n",
       "      <td>0</td>\n",
       "      <td>0</td>\n",
       "      <td>0</td>\n",
       "      <td>0</td>\n",
       "      <td>0</td>\n",
       "      <td>0</td>\n",
       "    </tr>\n",
       "  </tbody>\n",
       "</table>\n",
       "</div>"
      ],
      "text/plain": [
       "      Experience     Rating Place  Profile Miscellaneous_Info  Fees  BAMS  \\\n",
       "3980          23  94.643475     e  Dentist                NaN   250     0   \n",
       "\n",
       "      BDS  BHMS  DDVL  DIPLOMA  DNB  LCEH  MBBS  MD  MDS  MS  \n",
       "3980    1     0     0        0    0     0     0   0    0   0  "
      ]
     },
     "execution_count": 54,
     "metadata": {},
     "output_type": "execute_result"
    }
   ],
   "source": [
    "df[df['Place']=='e']"
   ]
  },
  {
   "cell_type": "code",
   "execution_count": 55,
   "metadata": {},
   "outputs": [],
   "source": [
    "df=df.drop(index=3980,axis=0)"
   ]
  },
  {
   "cell_type": "code",
   "execution_count": 56,
   "metadata": {},
   "outputs": [],
   "source": [
    "df['Place']=df['Place'].replace('Sector 5, Delhi','Delhi')"
   ]
  },
  {
   "cell_type": "code",
   "execution_count": 57,
   "metadata": {},
   "outputs": [
    {
     "data": {
      "text/plain": [
       "Bangalore             1236\n",
       "Mumbai                1192\n",
       "Delhi                 1161\n",
       "Hyderabad              938\n",
       "Chennai                841\n",
       "Coimbatore             223\n",
       "Ernakulam              149\n",
       "Thiruvananthapuram      84\n",
       "Name: Place, dtype: int64"
      ]
     },
     "execution_count": 57,
     "metadata": {},
     "output_type": "execute_result"
    }
   ],
   "source": [
    "df['Place'].value_counts()"
   ]
  },
  {
   "cell_type": "code",
   "execution_count": 58,
   "metadata": {},
   "outputs": [
    {
     "data": {
      "text/plain": [
       "1"
      ]
     },
     "execution_count": 58,
     "metadata": {},
     "output_type": "execute_result"
    }
   ],
   "source": [
    "df['Place'].isna().sum()"
   ]
  },
  {
   "cell_type": "code",
   "execution_count": 59,
   "metadata": {},
   "outputs": [
    {
     "data": {
      "text/plain": [
       "(5825, 17)"
      ]
     },
     "execution_count": 59,
     "metadata": {},
     "output_type": "execute_result"
    }
   ],
   "source": [
    "df.shape"
   ]
  },
  {
   "cell_type": "code",
   "execution_count": 60,
   "metadata": {},
   "outputs": [],
   "source": [
    "df=df.drop('Miscellaneous_Info',axis=1)"
   ]
  },
  {
   "cell_type": "code",
   "execution_count": 61,
   "metadata": {},
   "outputs": [
    {
     "data": {
      "text/plain": [
       "Experience    0\n",
       "Rating        0\n",
       "Place         1\n",
       "Profile       0\n",
       "Fees          0\n",
       "BAMS          0\n",
       "BDS           0\n",
       "BHMS          0\n",
       "DDVL          0\n",
       "DIPLOMA       0\n",
       "DNB           0\n",
       "LCEH          0\n",
       "MBBS          0\n",
       "MD            0\n",
       "MDS           0\n",
       "MS            0\n",
       "dtype: int64"
      ]
     },
     "execution_count": 61,
     "metadata": {},
     "output_type": "execute_result"
    }
   ],
   "source": [
    "df.isna().sum()"
   ]
  },
  {
   "cell_type": "code",
   "execution_count": 62,
   "metadata": {},
   "outputs": [
    {
     "data": {
      "text/plain": [
       "(5825, 16)"
      ]
     },
     "execution_count": 62,
     "metadata": {},
     "output_type": "execute_result"
    }
   ],
   "source": [
    "df.shape"
   ]
  },
  {
   "cell_type": "code",
   "execution_count": 63,
   "metadata": {},
   "outputs": [],
   "source": [
    "df=df.dropna()"
   ]
  },
  {
   "cell_type": "code",
   "execution_count": 64,
   "metadata": {},
   "outputs": [
    {
     "data": {
      "text/plain": [
       "(5824, 16)"
      ]
     },
     "execution_count": 64,
     "metadata": {},
     "output_type": "execute_result"
    }
   ],
   "source": [
    "df.shape"
   ]
  },
  {
   "cell_type": "code",
   "execution_count": 65,
   "metadata": {},
   "outputs": [],
   "source": [
    "si=SimpleImputer(strategy='most_frequent')"
   ]
  },
  {
   "cell_type": "code",
   "execution_count": 66,
   "metadata": {},
   "outputs": [],
   "source": [
    "# df.loc[:,'Place']=si.fit_transform(df['Place'].values.reshape(-1,1))"
   ]
  },
  {
   "cell_type": "code",
   "execution_count": 67,
   "metadata": {},
   "outputs": [
    {
     "data": {
      "text/plain": [
       "Dentist             1376\n",
       "General Medicine    1145\n",
       "Dermatologists       992\n",
       "Homeopath            827\n",
       "Ayurveda             765\n",
       "ENT Specialist       719\n",
       "Name: Profile, dtype: int64"
      ]
     },
     "execution_count": 67,
     "metadata": {},
     "output_type": "execute_result"
    }
   ],
   "source": [
    "df['Profile'].value_counts()"
   ]
  },
  {
   "cell_type": "code",
   "execution_count": 68,
   "metadata": {},
   "outputs": [],
   "source": [
    "# df=df.drop('Miscellaneous_Info',axis=1)"
   ]
  },
  {
   "cell_type": "code",
   "execution_count": 69,
   "metadata": {},
   "outputs": [
    {
     "data": {
      "text/plain": [
       "Index(['Place', 'Profile'], dtype='object')"
      ]
     },
     "execution_count": 69,
     "metadata": {},
     "output_type": "execute_result"
    }
   ],
   "source": [
    "df.select_dtypes('object').columns"
   ]
  },
  {
   "cell_type": "code",
   "execution_count": 70,
   "metadata": {},
   "outputs": [],
   "source": [
    "# df['Place']=le.fit_transform(df['Place'])"
   ]
  },
  {
   "cell_type": "code",
   "execution_count": 71,
   "metadata": {},
   "outputs": [],
   "source": [
    "# df['Profile']=le.fit_transform(df['Profile'])"
   ]
  },
  {
   "cell_type": "code",
   "execution_count": 72,
   "metadata": {},
   "outputs": [],
   "source": [
    "df=pd.concat([df.drop('Place',axis=1),pd.get_dummies(df['Place'])],axis=1)"
   ]
  },
  {
   "cell_type": "code",
   "execution_count": 73,
   "metadata": {},
   "outputs": [],
   "source": [
    "df=pd.concat([df.drop('Profile',axis=1),pd.get_dummies(df['Profile'])],axis=1)"
   ]
  },
  {
   "cell_type": "code",
   "execution_count": 74,
   "metadata": {},
   "outputs": [
    {
     "data": {
      "text/plain": [
       "(5824, 28)"
      ]
     },
     "execution_count": 74,
     "metadata": {},
     "output_type": "execute_result"
    }
   ],
   "source": [
    "df.shape"
   ]
  },
  {
   "cell_type": "code",
   "execution_count": 75,
   "metadata": {},
   "outputs": [],
   "source": [
    "zs=zscore(df)\n",
    "df=df[((zs<3) & (zs>-3)).all(axis=1)]"
   ]
  },
  {
   "cell_type": "code",
   "execution_count": 76,
   "metadata": {},
   "outputs": [
    {
     "data": {
      "text/plain": [
       "(4506, 28)"
      ]
     },
     "execution_count": 76,
     "metadata": {},
     "output_type": "execute_result"
    }
   ],
   "source": [
    "df.shape"
   ]
  },
  {
   "cell_type": "code",
   "execution_count": 77,
   "metadata": {},
   "outputs": [
    {
     "data": {
      "text/plain": [
       "<matplotlib.axes._subplots.AxesSubplot at 0x7fa02918c850>"
      ]
     },
     "execution_count": 77,
     "metadata": {},
     "output_type": "execute_result"
    },
    {
     "data": {
      "image/png": "[encoded data removed]",
      "text/plain": [
       "<Figure size 432x288 with 1 Axes>"
      ]
     },
     "metadata": {
      "needs_background": "light"
     },
     "output_type": "display_data"
    }
   ],
   "source": [
    "df.corr()['Fees'].drop('Fees').plot(kind='bar')"
   ]
  },
  {
   "cell_type": "code",
   "execution_count": 78,
   "metadata": {},
   "outputs": [
    {
     "data": {
      "text/plain": [
       "MBBS                  0.263580\n",
       "Dermatologists        0.207099\n",
       "ENT Specialist        0.146601\n",
       "Delhi                 0.121835\n",
       "Bangalore             0.024694\n",
       "General Medicine      0.022518\n",
       "Experience           -0.005565\n",
       "BHMS                 -0.021746\n",
       "Homeopath            -0.024571\n",
       "Hyderabad            -0.031296\n",
       "Mumbai               -0.058083\n",
       "Rating               -0.063110\n",
       "Chennai              -0.068162\n",
       "Dentist              -0.152490\n",
       "BDS                  -0.152490\n",
       "Ayurveda             -0.170477\n",
       "BAMS                 -0.171081\n",
       "DDVL                       NaN\n",
       "DIPLOMA                    NaN\n",
       "DNB                        NaN\n",
       "LCEH                       NaN\n",
       "MD                         NaN\n",
       "MDS                        NaN\n",
       "MS                         NaN\n",
       "Coimbatore                 NaN\n",
       "Ernakulam                  NaN\n",
       "Thiruvananthapuram         NaN\n",
       "Name: Fees, dtype: float64"
      ]
     },
     "execution_count": 78,
     "metadata": {},
     "output_type": "execute_result"
    }
   ],
   "source": [
    "df.corr()['Fees'].drop('Fees').sort_values(ascending=False)"
   ]
  },
  {
   "cell_type": "code",
   "execution_count": 79,
   "metadata": {},
   "outputs": [],
   "source": [
    "df=df.drop(['DDVL','DIPLOMA','DNB','LCEH','LCEH','MD','MDS','MS','Coimbatore','Ernakulam','Thiruvananthapuram'],axis=1)"
   ]
  },
  {
   "cell_type": "code",
   "execution_count": 80,
   "metadata": {},
   "outputs": [
    {
     "data": {
      "text/plain": [
       "Experience          0.898015\n",
       "Rating             -1.378904\n",
       "Fees                0.667313\n",
       "BAMS                1.948668\n",
       "BDS                 1.387587\n",
       "BHMS                1.951086\n",
       "MBBS                0.068416\n",
       "Bangalore           1.245927\n",
       "Chennai             1.878098\n",
       "Delhi               1.381199\n",
       "Hyderabad           1.702270\n",
       "Mumbai              1.390792\n",
       "Ayurveda            1.951086\n",
       "Dentist             1.387587\n",
       "Dermatologists      1.839703\n",
       "ENT Specialist      2.374645\n",
       "General Medicine    1.480183\n",
       "Homeopath           1.936644\n",
       "dtype: float64"
      ]
     },
     "execution_count": 80,
     "metadata": {},
     "output_type": "execute_result"
    }
   ],
   "source": [
    "df.skew()"
   ]
  },
  {
   "cell_type": "code",
   "execution_count": 81,
   "metadata": {},
   "outputs": [],
   "source": [
    "pt=PowerTransformer()"
   ]
  },
  {
   "cell_type": "code",
   "execution_count": 82,
   "metadata": {},
   "outputs": [
    {
     "data": {
      "text/plain": [
       "(4506, 18)"
      ]
     },
     "execution_count": 82,
     "metadata": {},
     "output_type": "execute_result"
    }
   ],
   "source": [
    "df.shape"
   ]
  },
  {
   "cell_type": "code",
   "execution_count": 83,
   "metadata": {},
   "outputs": [],
   "source": [
    "for x in df.columns.drop('Fees'):\n",
    "    if abs(df.loc[:,x].skew())>0.55:\n",
    "        df.loc[:,x]=pt.fit_transform(df.loc[:,x].values.reshape(-1,1))"
   ]
  },
  {
   "cell_type": "code",
   "execution_count": 84,
   "metadata": {},
   "outputs": [
    {
     "data": {
      "text/plain": [
       "Experience         -0.001474\n",
       "Rating              0.107584\n",
       "Fees                0.667313\n",
       "BAMS                1.948668\n",
       "BDS                 1.387587\n",
       "BHMS                1.951086\n",
       "MBBS                0.068416\n",
       "Bangalore           1.245927\n",
       "Chennai             1.878098\n",
       "Delhi               1.381199\n",
       "Hyderabad           1.702270\n",
       "Mumbai              1.390792\n",
       "Ayurveda            1.951086\n",
       "Dentist             1.387587\n",
       "Dermatologists      1.839703\n",
       "ENT Specialist      2.374645\n",
       "General Medicine    1.480183\n",
       "Homeopath           1.936644\n",
       "dtype: float64"
      ]
     },
     "execution_count": 84,
     "metadata": {},
     "output_type": "execute_result"
    }
   ],
   "source": [
    "df.skew()"
   ]
  },
  {
   "cell_type": "code",
   "execution_count": 85,
   "metadata": {},
   "outputs": [],
   "source": [
    "X=df.drop('Fees',axis=1)\n",
    "y=df['Fees']"
   ]
  },
  {
   "cell_type": "code",
   "execution_count": 86,
   "metadata": {},
   "outputs": [],
   "source": [
    "def model_sel(mod):\n",
    "    maxscore=0\n",
    "    maxstate=0\n",
    "    for x in range(42,105):\n",
    "        X_train, X_test, y_train, y_test = train_test_split(X, y, test_size=0.33, random_state=x)\n",
    "        model=mod()\n",
    "        model.fit(X_train,y_train)\n",
    "        predict=model.predict(X_test)\n",
    "        r2score=r2_score(y_test,predict)\n",
    "        if r2score>maxscore:\n",
    "            maxscore=r2score\n",
    "            maxstate=x\n",
    "    print(\"Max Score is {} at max state {}\".format(maxscore,maxstate))"
   ]
  },
  {
   "cell_type": "code",
   "execution_count": 87,
   "metadata": {
    "scrolled": false
   },
   "outputs": [
    {
     "name": "stdout",
     "output_type": "stream",
     "text": [
      "Max Score is 0.13784392030415316 at max state 55\n"
     ]
    }
   ],
   "source": [
    "model_sel(LinearRegression)"
   ]
  },
  {
   "cell_type": "code",
   "execution_count": 88,
   "metadata": {},
   "outputs": [
    {
     "name": "stdout",
     "output_type": "stream",
     "text": [
      "Max Score is 0.13649767645566646 at max state 99\n"
     ]
    }
   ],
   "source": [
    "model_sel(Lasso)"
   ]
  },
  {
   "cell_type": "code",
   "execution_count": 89,
   "metadata": {},
   "outputs": [
    {
     "name": "stdout",
     "output_type": "stream",
     "text": [
      "Max Score is 0.13781900340237485 at max state 55\n"
     ]
    }
   ],
   "source": [
    "model_sel(Ridge)"
   ]
  },
  {
   "cell_type": "code",
   "execution_count": 90,
   "metadata": {},
   "outputs": [
    {
     "name": "stdout",
     "output_type": "stream",
     "text": [
      "Max Score is 0.1237568249786698 at max state 99\n"
     ]
    }
   ],
   "source": [
    "model_sel(ElasticNet)"
   ]
  },
  {
   "cell_type": "code",
   "execution_count": 91,
   "metadata": {
    "scrolled": true
   },
   "outputs": [
    {
     "name": "stdout",
     "output_type": "stream",
     "text": [
      "Max Score is 0.0780761332083616 at max state 96\n"
     ]
    }
   ],
   "source": [
    "model_sel(KNeighborsRegressor)"
   ]
  },
  {
   "cell_type": "code",
   "execution_count": 92,
   "metadata": {
    "scrolled": true
   },
   "outputs": [
    {
     "name": "stdout",
     "output_type": "stream",
     "text": [
      "Max Score is 0 at max state 0\n"
     ]
    }
   ],
   "source": [
    "model_sel(DecisionTreeRegressor)"
   ]
  },
  {
   "cell_type": "code",
   "execution_count": 93,
   "metadata": {
    "scrolled": true
   },
   "outputs": [
    {
     "name": "stdout",
     "output_type": "stream",
     "text": [
      "Max Score is 0.013308432857215835 at max state 100\n"
     ]
    }
   ],
   "source": [
    "model_sel(RandomForestRegressor)"
   ]
  },
  {
   "cell_type": "code",
   "execution_count": 94,
   "metadata": {
    "scrolled": true
   },
   "outputs": [
    {
     "name": "stdout",
     "output_type": "stream",
     "text": [
      "Max Score is 0.08424937657242815 at max state 65\n"
     ]
    }
   ],
   "source": [
    "model_sel(SVR)"
   ]
  },
  {
   "cell_type": "code",
   "execution_count": 95,
   "metadata": {
    "scrolled": true
   },
   "outputs": [
    {
     "name": "stdout",
     "output_type": "stream",
     "text": [
      "Max Score is 0.13797774571418564 at max state 55\n"
     ]
    }
   ],
   "source": [
    "model_sel(AdaBoostRegressor)"
   ]
  },
  {
   "cell_type": "code",
   "execution_count": 96,
   "metadata": {},
   "outputs": [],
   "source": [
    "X_train, X_test, y_train, y_test = train_test_split(X, y, test_size=0.33, random_state=55)"
   ]
  },
  {
   "cell_type": "code",
   "execution_count": 97,
   "metadata": {},
   "outputs": [],
   "source": [
    "ad=AdaBoostRegressor()\n",
    "ad.fit(X_train,y_train)\n",
    "predict=ad.predict(X_test)"
   ]
  },
  {
   "cell_type": "code",
   "execution_count": 98,
   "metadata": {},
   "outputs": [],
   "source": [
    "param={'n_estimators':[50,80,100,120,150,170,230,250,270,310]}\n",
    "gscv=GridSearchCV(AdaBoostRegressor(),param)"
   ]
  },
  {
   "cell_type": "code",
   "execution_count": 411,
   "metadata": {},
   "outputs": [
    {
     "data": {
      "text/plain": [
       "GridSearchCV(estimator=AdaBoostRegressor(),\n",
       "             param_grid={'n_estimators': [50, 80, 100, 120, 150, 170, 230, 250,\n",
       "                                          270, 310]})"
      ]
     },
     "execution_count": 411,
     "metadata": {},
     "output_type": "execute_result"
    }
   ],
   "source": [
    "# gscv.fit(X_train,y_train)"
   ]
  },
  {
   "cell_type": "code",
   "execution_count": 407,
   "metadata": {},
   "outputs": [
    {
     "data": {
      "text/plain": [
       "{'n_estimators': 150}"
      ]
     },
     "execution_count": 407,
     "metadata": {},
     "output_type": "execute_result"
    }
   ],
   "source": [
    "# gscv.best_params_"
   ]
  },
  {
   "cell_type": "code",
   "execution_count": 412,
   "metadata": {},
   "outputs": [],
   "source": [
    "# ad=AdaBoostRegressor(n_estimators=50)\n",
    "# ad.fit(X_train,y_train)\n",
    "# predict=ad.predict(X_test)"
   ]
  },
  {
   "cell_type": "code",
   "execution_count": 99,
   "metadata": {},
   "outputs": [
    {
     "data": {
      "text/plain": [
       "143.38054067207182"
      ]
     },
     "execution_count": 99,
     "metadata": {},
     "output_type": "execute_result"
    }
   ],
   "source": [
    "mean_absolute_error(y_test,predict)"
   ]
  },
  {
   "cell_type": "code",
   "execution_count": 101,
   "metadata": {},
   "outputs": [
    {
     "data": {
      "text/plain": [
       "174.38555053955656"
      ]
     },
     "execution_count": 101,
     "metadata": {},
     "output_type": "execute_result"
    }
   ],
   "source": [
    "np.sqrt(mean_squared_error(y_test,predict))"
   ]
  },
  {
   "cell_type": "code",
   "execution_count": 102,
   "metadata": {},
   "outputs": [
    {
     "data": {
      "text/plain": [
       "[\"Doctor's consultation fees ad.obj\"]"
      ]
     },
     "execution_count": 102,
     "metadata": {},
     "output_type": "execute_result"
    }
   ],
   "source": [
    "#Save the model\n",
    "joblib.dump(ad,\"Doctor's consultation fees ad.obj\")"
   ]
  }
 ],
 "metadata": {
  "kernelspec": {
   "display_name": "Python 3",
   "language": "python",
   "name": "python3"
  },
  "language_info": {
   "codemirror_mode": {
    "name": "ipython",
    "version": 3
   },
   "file_extension": ".py",
   "mimetype": "text/x-python",
   "name": "python",
   "nbconvert_exporter": "python",
   "pygments_lexer": "ipython3",
   "version": "3.8.3"
  }
 },
 "nbformat": 4,
 "nbformat_minor": 4
}

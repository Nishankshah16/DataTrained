{
 "cells": [
  {
   "cell_type": "code",
   "execution_count": 705,
   "metadata": {},
   "outputs": [],
   "source": [
    "import pandas as pd, numpy as np, seaborn as sns, matplotlib.pyplot as plt,joblib\n",
    "from scipy.stats import zscore\n",
    "from scipy.stats import boxcox\n",
    "from sklearn.preprocessing import LabelEncoder\n",
    "from sklearn.preprocessing import StandardScaler\n",
    "from sklearn.model_selection import train_test_split\n",
    "from sklearn.linear_model import LogisticRegression\n",
    "from sklearn.neighbors import KNeighborsClassifier\n",
    "from sklearn.naive_bayes import GaussianNB\n",
    "from sklearn.tree import DecisionTreeClassifier\n",
    "from sklearn.svm import SVC\n",
    "from sklearn.ensemble import RandomForestClassifier\n",
    "from sklearn.model_selection import GridSearchCV\n",
    "from sklearn.metrics import confusion_matrix,classification_report\n",
    "from sklearn.metrics import r2_score"
   ]
  },
  {
   "cell_type": "code",
   "execution_count": 657,
   "metadata": {},
   "outputs": [],
   "source": [
    "sonar=pd.read_csv('sonar_all_data.csv',header=None)"
   ]
  },
  {
   "cell_type": "code",
   "execution_count": 658,
   "metadata": {},
   "outputs": [
    {
     "data": {
      "text/html": [
       "<div>\n",
       "<style scoped>\n",
       "    .dataframe tbody tr th:only-of-type {\n",
       "        vertical-align: middle;\n",
       "    }\n",
       "\n",
       "    .dataframe tbody tr th {\n",
       "        vertical-align: top;\n",
       "    }\n",
       "\n",
       "    .dataframe thead th {\n",
       "        text-align: right;\n",
       "    }\n",
       "</style>\n",
       "<table border=\"1\" class=\"dataframe\">\n",
       "  <thead>\n",
       "    <tr style=\"text-align: right;\">\n",
       "      <th></th>\n",
       "      <th>0</th>\n",
       "      <th>1</th>\n",
       "      <th>2</th>\n",
       "      <th>3</th>\n",
       "      <th>4</th>\n",
       "      <th>5</th>\n",
       "      <th>6</th>\n",
       "      <th>7</th>\n",
       "      <th>8</th>\n",
       "      <th>9</th>\n",
       "      <th>...</th>\n",
       "      <th>51</th>\n",
       "      <th>52</th>\n",
       "      <th>53</th>\n",
       "      <th>54</th>\n",
       "      <th>55</th>\n",
       "      <th>56</th>\n",
       "      <th>57</th>\n",
       "      <th>58</th>\n",
       "      <th>59</th>\n",
       "      <th>60</th>\n",
       "    </tr>\n",
       "  </thead>\n",
       "  <tbody>\n",
       "    <tr>\n",
       "      <th>0</th>\n",
       "      <td>0.0200</td>\n",
       "      <td>0.0371</td>\n",
       "      <td>0.0428</td>\n",
       "      <td>0.0207</td>\n",
       "      <td>0.0954</td>\n",
       "      <td>0.0986</td>\n",
       "      <td>0.1539</td>\n",
       "      <td>0.1601</td>\n",
       "      <td>0.3109</td>\n",
       "      <td>0.2111</td>\n",
       "      <td>...</td>\n",
       "      <td>0.0027</td>\n",
       "      <td>0.0065</td>\n",
       "      <td>0.0159</td>\n",
       "      <td>0.0072</td>\n",
       "      <td>0.0167</td>\n",
       "      <td>0.0180</td>\n",
       "      <td>0.0084</td>\n",
       "      <td>0.0090</td>\n",
       "      <td>0.0032</td>\n",
       "      <td>R</td>\n",
       "    </tr>\n",
       "    <tr>\n",
       "      <th>1</th>\n",
       "      <td>0.0453</td>\n",
       "      <td>0.0523</td>\n",
       "      <td>0.0843</td>\n",
       "      <td>0.0689</td>\n",
       "      <td>0.1183</td>\n",
       "      <td>0.2583</td>\n",
       "      <td>0.2156</td>\n",
       "      <td>0.3481</td>\n",
       "      <td>0.3337</td>\n",
       "      <td>0.2872</td>\n",
       "      <td>...</td>\n",
       "      <td>0.0084</td>\n",
       "      <td>0.0089</td>\n",
       "      <td>0.0048</td>\n",
       "      <td>0.0094</td>\n",
       "      <td>0.0191</td>\n",
       "      <td>0.0140</td>\n",
       "      <td>0.0049</td>\n",
       "      <td>0.0052</td>\n",
       "      <td>0.0044</td>\n",
       "      <td>R</td>\n",
       "    </tr>\n",
       "    <tr>\n",
       "      <th>2</th>\n",
       "      <td>0.0262</td>\n",
       "      <td>0.0582</td>\n",
       "      <td>0.1099</td>\n",
       "      <td>0.1083</td>\n",
       "      <td>0.0974</td>\n",
       "      <td>0.2280</td>\n",
       "      <td>0.2431</td>\n",
       "      <td>0.3771</td>\n",
       "      <td>0.5598</td>\n",
       "      <td>0.6194</td>\n",
       "      <td>...</td>\n",
       "      <td>0.0232</td>\n",
       "      <td>0.0166</td>\n",
       "      <td>0.0095</td>\n",
       "      <td>0.0180</td>\n",
       "      <td>0.0244</td>\n",
       "      <td>0.0316</td>\n",
       "      <td>0.0164</td>\n",
       "      <td>0.0095</td>\n",
       "      <td>0.0078</td>\n",
       "      <td>R</td>\n",
       "    </tr>\n",
       "    <tr>\n",
       "      <th>3</th>\n",
       "      <td>0.0100</td>\n",
       "      <td>0.0171</td>\n",
       "      <td>0.0623</td>\n",
       "      <td>0.0205</td>\n",
       "      <td>0.0205</td>\n",
       "      <td>0.0368</td>\n",
       "      <td>0.1098</td>\n",
       "      <td>0.1276</td>\n",
       "      <td>0.0598</td>\n",
       "      <td>0.1264</td>\n",
       "      <td>...</td>\n",
       "      <td>0.0121</td>\n",
       "      <td>0.0036</td>\n",
       "      <td>0.0150</td>\n",
       "      <td>0.0085</td>\n",
       "      <td>0.0073</td>\n",
       "      <td>0.0050</td>\n",
       "      <td>0.0044</td>\n",
       "      <td>0.0040</td>\n",
       "      <td>0.0117</td>\n",
       "      <td>R</td>\n",
       "    </tr>\n",
       "    <tr>\n",
       "      <th>4</th>\n",
       "      <td>0.0762</td>\n",
       "      <td>0.0666</td>\n",
       "      <td>0.0481</td>\n",
       "      <td>0.0394</td>\n",
       "      <td>0.0590</td>\n",
       "      <td>0.0649</td>\n",
       "      <td>0.1209</td>\n",
       "      <td>0.2467</td>\n",
       "      <td>0.3564</td>\n",
       "      <td>0.4459</td>\n",
       "      <td>...</td>\n",
       "      <td>0.0031</td>\n",
       "      <td>0.0054</td>\n",
       "      <td>0.0105</td>\n",
       "      <td>0.0110</td>\n",
       "      <td>0.0015</td>\n",
       "      <td>0.0072</td>\n",
       "      <td>0.0048</td>\n",
       "      <td>0.0107</td>\n",
       "      <td>0.0094</td>\n",
       "      <td>R</td>\n",
       "    </tr>\n",
       "  </tbody>\n",
       "</table>\n",
       "<p>5 rows × 61 columns</p>\n",
       "</div>"
      ],
      "text/plain": [
       "       0       1       2       3       4       5       6       7       8   \\\n",
       "0  0.0200  0.0371  0.0428  0.0207  0.0954  0.0986  0.1539  0.1601  0.3109   \n",
       "1  0.0453  0.0523  0.0843  0.0689  0.1183  0.2583  0.2156  0.3481  0.3337   \n",
       "2  0.0262  0.0582  0.1099  0.1083  0.0974  0.2280  0.2431  0.3771  0.5598   \n",
       "3  0.0100  0.0171  0.0623  0.0205  0.0205  0.0368  0.1098  0.1276  0.0598   \n",
       "4  0.0762  0.0666  0.0481  0.0394  0.0590  0.0649  0.1209  0.2467  0.3564   \n",
       "\n",
       "       9   ...      51      52      53      54      55      56      57  \\\n",
       "0  0.2111  ...  0.0027  0.0065  0.0159  0.0072  0.0167  0.0180  0.0084   \n",
       "1  0.2872  ...  0.0084  0.0089  0.0048  0.0094  0.0191  0.0140  0.0049   \n",
       "2  0.6194  ...  0.0232  0.0166  0.0095  0.0180  0.0244  0.0316  0.0164   \n",
       "3  0.1264  ...  0.0121  0.0036  0.0150  0.0085  0.0073  0.0050  0.0044   \n",
       "4  0.4459  ...  0.0031  0.0054  0.0105  0.0110  0.0015  0.0072  0.0048   \n",
       "\n",
       "       58      59  60  \n",
       "0  0.0090  0.0032   R  \n",
       "1  0.0052  0.0044   R  \n",
       "2  0.0095  0.0078   R  \n",
       "3  0.0040  0.0117   R  \n",
       "4  0.0107  0.0094   R  \n",
       "\n",
       "[5 rows x 61 columns]"
      ]
     },
     "execution_count": 658,
     "metadata": {},
     "output_type": "execute_result"
    }
   ],
   "source": [
    "sonar.head()"
   ]
  },
  {
   "cell_type": "code",
   "execution_count": 659,
   "metadata": {},
   "outputs": [
    {
     "name": "stdout",
     "output_type": "stream",
     "text": [
      "<class 'pandas.core.frame.DataFrame'>\n",
      "RangeIndex: 208 entries, 0 to 207\n",
      "Data columns (total 61 columns):\n",
      " #   Column  Non-Null Count  Dtype  \n",
      "---  ------  --------------  -----  \n",
      " 0   0       208 non-null    float64\n",
      " 1   1       208 non-null    float64\n",
      " 2   2       208 non-null    float64\n",
      " 3   3       208 non-null    float64\n",
      " 4   4       208 non-null    float64\n",
      " 5   5       208 non-null    float64\n",
      " 6   6       208 non-null    float64\n",
      " 7   7       208 non-null    float64\n",
      " 8   8       208 non-null    float64\n",
      " 9   9       208 non-null    float64\n",
      " 10  10      208 non-null    float64\n",
      " 11  11      208 non-null    float64\n",
      " 12  12      208 non-null    float64\n",
      " 13  13      208 non-null    float64\n",
      " 14  14      208 non-null    float64\n",
      " 15  15      208 non-null    float64\n",
      " 16  16      208 non-null    float64\n",
      " 17  17      208 non-null    float64\n",
      " 18  18      208 non-null    float64\n",
      " 19  19      208 non-null    float64\n",
      " 20  20      208 non-null    float64\n",
      " 21  21      208 non-null    float64\n",
      " 22  22      208 non-null    float64\n",
      " 23  23      208 non-null    float64\n",
      " 24  24      208 non-null    float64\n",
      " 25  25      208 non-null    float64\n",
      " 26  26      208 non-null    float64\n",
      " 27  27      208 non-null    float64\n",
      " 28  28      208 non-null    float64\n",
      " 29  29      208 non-null    float64\n",
      " 30  30      208 non-null    float64\n",
      " 31  31      208 non-null    float64\n",
      " 32  32      208 non-null    float64\n",
      " 33  33      208 non-null    float64\n",
      " 34  34      208 non-null    float64\n",
      " 35  35      208 non-null    float64\n",
      " 36  36      208 non-null    float64\n",
      " 37  37      208 non-null    float64\n",
      " 38  38      208 non-null    float64\n",
      " 39  39      208 non-null    float64\n",
      " 40  40      208 non-null    float64\n",
      " 41  41      208 non-null    float64\n",
      " 42  42      208 non-null    float64\n",
      " 43  43      208 non-null    float64\n",
      " 44  44      208 non-null    float64\n",
      " 45  45      208 non-null    float64\n",
      " 46  46      208 non-null    float64\n",
      " 47  47      208 non-null    float64\n",
      " 48  48      208 non-null    float64\n",
      " 49  49      208 non-null    float64\n",
      " 50  50      208 non-null    float64\n",
      " 51  51      208 non-null    float64\n",
      " 52  52      208 non-null    float64\n",
      " 53  53      208 non-null    float64\n",
      " 54  54      208 non-null    float64\n",
      " 55  55      208 non-null    float64\n",
      " 56  56      208 non-null    float64\n",
      " 57  57      208 non-null    float64\n",
      " 58  58      208 non-null    float64\n",
      " 59  59      208 non-null    float64\n",
      " 60  60      208 non-null    object \n",
      "dtypes: float64(60), object(1)\n",
      "memory usage: 99.2+ KB\n"
     ]
    }
   ],
   "source": [
    "sonar.info()"
   ]
  },
  {
   "cell_type": "code",
   "execution_count": 660,
   "metadata": {},
   "outputs": [
    {
     "data": {
      "text/plain": [
       "<matplotlib.axes._subplots.AxesSubplot at 0x7fcbc187e700>"
      ]
     },
     "execution_count": 660,
     "metadata": {},
     "output_type": "execute_result"
    },
    {
     "data": {
      "image/png": "[encoded data removed]",
      "text/plain": [
       "<Figure size 432x288 with 2 Axes>"
      ]
     },
     "metadata": {
      "needs_background": "light"
     },
     "output_type": "display_data"
    }
   ],
   "source": [
    "sns.heatmap(sonar.isna(),yticklabels=False,cmap='viridis')"
   ]
  },
  {
   "cell_type": "code",
   "execution_count": 661,
   "metadata": {},
   "outputs": [
    {
     "data": {
      "text/plain": [
       "<matplotlib.axes._subplots.AxesSubplot at 0x7fcbc15c3160>"
      ]
     },
     "execution_count": 661,
     "metadata": {},
     "output_type": "execute_result"
    },
    {
     "data": {
      "image/png": "[encoded data removed]",
      "text/plain": [
       "<Figure size 432x288 with 2 Axes>"
      ]
     },
     "metadata": {
      "needs_background": "light"
     },
     "output_type": "display_data"
    }
   ],
   "source": [
    "sns.heatmap(sonar.corr())"
   ]
  },
  {
   "cell_type": "code",
   "execution_count": 662,
   "metadata": {},
   "outputs": [],
   "source": [
    "le=LabelEncoder()"
   ]
  },
  {
   "cell_type": "code",
   "execution_count": 663,
   "metadata": {},
   "outputs": [],
   "source": [
    "sonar[60]=le.fit_transform(sonar[60])"
   ]
  },
  {
   "cell_type": "code",
   "execution_count": 664,
   "metadata": {},
   "outputs": [
    {
     "data": {
      "text/plain": [
       "(208, 61)"
      ]
     },
     "execution_count": 664,
     "metadata": {},
     "output_type": "execute_result"
    }
   ],
   "source": [
    "sonar.shape"
   ]
  },
  {
   "cell_type": "code",
   "execution_count": 665,
   "metadata": {},
   "outputs": [],
   "source": [
    "zs=zscore(sonar)"
   ]
  },
  {
   "cell_type": "code",
   "execution_count": 666,
   "metadata": {},
   "outputs": [],
   "source": [
    "sonar=sonar[(zs<3).all(axis=1)]"
   ]
  },
  {
   "cell_type": "code",
   "execution_count": 667,
   "metadata": {},
   "outputs": [
    {
     "data": {
      "text/plain": [
       "(168, 61)"
      ]
     },
     "execution_count": 667,
     "metadata": {},
     "output_type": "execute_result"
    }
   ],
   "source": [
    "sonar.shape"
   ]
  },
  {
   "cell_type": "code",
   "execution_count": 668,
   "metadata": {},
   "outputs": [
    {
     "data": {
      "text/plain": [
       "0     1.260141\n",
       "1     1.305137\n",
       "2     1.651471\n",
       "3     1.237233\n",
       "4     0.921870\n",
       "        ...   \n",
       "56    1.378156\n",
       "57    1.364882\n",
       "58    1.464334\n",
       "59    1.144572\n",
       "60    0.000000\n",
       "Length: 61, dtype: float64"
      ]
     },
     "execution_count": 668,
     "metadata": {},
     "output_type": "execute_result"
    }
   ],
   "source": [
    "sonar.skew()"
   ]
  },
  {
   "cell_type": "code",
   "execution_count": 669,
   "metadata": {},
   "outputs": [],
   "source": [
    "for col in sonar.columns:\n",
    "    if abs(sonar.loc[:,col]).skew()>0.55:\n",
    "        sonar.loc[:,col]=np.log1p(sonar.loc[:,col])"
   ]
  },
  {
   "cell_type": "code",
   "execution_count": 670,
   "metadata": {},
   "outputs": [
    {
     "data": {
      "text/plain": [
       "0     1.211293\n",
       "1     1.228298\n",
       "2     1.537569\n",
       "3     1.133208\n",
       "4     0.821050\n",
       "        ...   \n",
       "56    1.362574\n",
       "57    1.349570\n",
       "58    1.447639\n",
       "59    1.134093\n",
       "60    0.000000\n",
       "Length: 61, dtype: float64"
      ]
     },
     "execution_count": 670,
     "metadata": {},
     "output_type": "execute_result"
    }
   ],
   "source": [
    "sonar.skew()"
   ]
  },
  {
   "cell_type": "code",
   "execution_count": 671,
   "metadata": {},
   "outputs": [],
   "source": [
    "sc=StandardScaler()"
   ]
  },
  {
   "cell_type": "code",
   "execution_count": 672,
   "metadata": {},
   "outputs": [
    {
     "data": {
      "text/html": [
       "<div>\n",
       "<style scoped>\n",
       "    .dataframe tbody tr th:only-of-type {\n",
       "        vertical-align: middle;\n",
       "    }\n",
       "\n",
       "    .dataframe tbody tr th {\n",
       "        vertical-align: top;\n",
       "    }\n",
       "\n",
       "    .dataframe thead th {\n",
       "        text-align: right;\n",
       "    }\n",
       "</style>\n",
       "<table border=\"1\" class=\"dataframe\">\n",
       "  <thead>\n",
       "    <tr style=\"text-align: right;\">\n",
       "      <th></th>\n",
       "      <th>60</th>\n",
       "    </tr>\n",
       "  </thead>\n",
       "  <tbody>\n",
       "    <tr>\n",
       "      <th>0</th>\n",
       "      <td>1</td>\n",
       "    </tr>\n",
       "    <tr>\n",
       "      <th>1</th>\n",
       "      <td>1</td>\n",
       "    </tr>\n",
       "    <tr>\n",
       "      <th>4</th>\n",
       "      <td>1</td>\n",
       "    </tr>\n",
       "    <tr>\n",
       "      <th>6</th>\n",
       "      <td>1</td>\n",
       "    </tr>\n",
       "    <tr>\n",
       "      <th>7</th>\n",
       "      <td>1</td>\n",
       "    </tr>\n",
       "    <tr>\n",
       "      <th>...</th>\n",
       "      <td>...</td>\n",
       "    </tr>\n",
       "    <tr>\n",
       "      <th>203</th>\n",
       "      <td>0</td>\n",
       "    </tr>\n",
       "    <tr>\n",
       "      <th>204</th>\n",
       "      <td>0</td>\n",
       "    </tr>\n",
       "    <tr>\n",
       "      <th>205</th>\n",
       "      <td>0</td>\n",
       "    </tr>\n",
       "    <tr>\n",
       "      <th>206</th>\n",
       "      <td>0</td>\n",
       "    </tr>\n",
       "    <tr>\n",
       "      <th>207</th>\n",
       "      <td>0</td>\n",
       "    </tr>\n",
       "  </tbody>\n",
       "</table>\n",
       "<p>168 rows × 1 columns</p>\n",
       "</div>"
      ],
      "text/plain": [
       "     60\n",
       "0     1\n",
       "1     1\n",
       "4     1\n",
       "6     1\n",
       "7     1\n",
       "..   ..\n",
       "203   0\n",
       "204   0\n",
       "205   0\n",
       "206   0\n",
       "207   0\n",
       "\n",
       "[168 rows x 1 columns]"
      ]
     },
     "execution_count": 672,
     "metadata": {},
     "output_type": "execute_result"
    }
   ],
   "source": [
    "sonar.iloc[:,60:]"
   ]
  },
  {
   "cell_type": "code",
   "execution_count": 673,
   "metadata": {},
   "outputs": [
    {
     "data": {
      "text/html": [
       "<div>\n",
       "<style scoped>\n",
       "    .dataframe tbody tr th:only-of-type {\n",
       "        vertical-align: middle;\n",
       "    }\n",
       "\n",
       "    .dataframe tbody tr th {\n",
       "        vertical-align: top;\n",
       "    }\n",
       "\n",
       "    .dataframe thead th {\n",
       "        text-align: right;\n",
       "    }\n",
       "</style>\n",
       "<table border=\"1\" class=\"dataframe\">\n",
       "  <thead>\n",
       "    <tr style=\"text-align: right;\">\n",
       "      <th></th>\n",
       "      <th>0</th>\n",
       "      <th>1</th>\n",
       "      <th>2</th>\n",
       "      <th>3</th>\n",
       "      <th>4</th>\n",
       "      <th>5</th>\n",
       "      <th>6</th>\n",
       "      <th>7</th>\n",
       "      <th>8</th>\n",
       "      <th>9</th>\n",
       "      <th>...</th>\n",
       "      <th>50</th>\n",
       "      <th>51</th>\n",
       "      <th>52</th>\n",
       "      <th>53</th>\n",
       "      <th>54</th>\n",
       "      <th>55</th>\n",
       "      <th>56</th>\n",
       "      <th>57</th>\n",
       "      <th>58</th>\n",
       "      <th>59</th>\n",
       "    </tr>\n",
       "  </thead>\n",
       "  <tbody>\n",
       "    <tr>\n",
       "      <th>0</th>\n",
       "      <td>0.019803</td>\n",
       "      <td>0.036428</td>\n",
       "      <td>0.041909</td>\n",
       "      <td>0.020489</td>\n",
       "      <td>0.091120</td>\n",
       "      <td>0.094037</td>\n",
       "      <td>0.1539</td>\n",
       "      <td>0.148506</td>\n",
       "      <td>0.270714</td>\n",
       "      <td>0.191529</td>\n",
       "      <td>...</td>\n",
       "      <td>0.022935</td>\n",
       "      <td>0.002696</td>\n",
       "      <td>0.006479</td>\n",
       "      <td>0.015775</td>\n",
       "      <td>0.007174</td>\n",
       "      <td>0.016562</td>\n",
       "      <td>0.017840</td>\n",
       "      <td>0.008365</td>\n",
       "      <td>0.008960</td>\n",
       "      <td>0.003195</td>\n",
       "    </tr>\n",
       "    <tr>\n",
       "      <th>1</th>\n",
       "      <td>0.044304</td>\n",
       "      <td>0.050978</td>\n",
       "      <td>0.080935</td>\n",
       "      <td>0.066630</td>\n",
       "      <td>0.111810</td>\n",
       "      <td>0.229762</td>\n",
       "      <td>0.2156</td>\n",
       "      <td>0.298696</td>\n",
       "      <td>0.287957</td>\n",
       "      <td>0.252469</td>\n",
       "      <td>...</td>\n",
       "      <td>0.012423</td>\n",
       "      <td>0.008365</td>\n",
       "      <td>0.008861</td>\n",
       "      <td>0.004789</td>\n",
       "      <td>0.009356</td>\n",
       "      <td>0.018920</td>\n",
       "      <td>0.013903</td>\n",
       "      <td>0.004888</td>\n",
       "      <td>0.005187</td>\n",
       "      <td>0.004390</td>\n",
       "    </tr>\n",
       "    <tr>\n",
       "      <th>4</th>\n",
       "      <td>0.073436</td>\n",
       "      <td>0.064476</td>\n",
       "      <td>0.046979</td>\n",
       "      <td>0.038644</td>\n",
       "      <td>0.057325</td>\n",
       "      <td>0.062881</td>\n",
       "      <td>0.1209</td>\n",
       "      <td>0.220500</td>\n",
       "      <td>0.304834</td>\n",
       "      <td>0.368732</td>\n",
       "      <td>...</td>\n",
       "      <td>0.015480</td>\n",
       "      <td>0.003095</td>\n",
       "      <td>0.005385</td>\n",
       "      <td>0.010445</td>\n",
       "      <td>0.010940</td>\n",
       "      <td>0.001499</td>\n",
       "      <td>0.007174</td>\n",
       "      <td>0.004789</td>\n",
       "      <td>0.010643</td>\n",
       "      <td>0.009356</td>\n",
       "    </tr>\n",
       "    <tr>\n",
       "      <th>6</th>\n",
       "      <td>0.031208</td>\n",
       "      <td>0.091302</td>\n",
       "      <td>0.124074</td>\n",
       "      <td>0.131730</td>\n",
       "      <td>0.154779</td>\n",
       "      <td>0.157858</td>\n",
       "      <td>0.0731</td>\n",
       "      <td>0.131116</td>\n",
       "      <td>0.189214</td>\n",
       "      <td>0.301067</td>\n",
       "      <td>...</td>\n",
       "      <td>0.019312</td>\n",
       "      <td>0.019901</td>\n",
       "      <td>0.024497</td>\n",
       "      <td>0.013015</td>\n",
       "      <td>0.006976</td>\n",
       "      <td>0.013706</td>\n",
       "      <td>0.009158</td>\n",
       "      <td>0.014199</td>\n",
       "      <td>0.003594</td>\n",
       "      <td>0.010247</td>\n",
       "    </tr>\n",
       "    <tr>\n",
       "      <th>7</th>\n",
       "      <td>0.050598</td>\n",
       "      <td>0.053351</td>\n",
       "      <td>0.080842</td>\n",
       "      <td>0.031402</td>\n",
       "      <td>0.109572</td>\n",
       "      <td>0.088194</td>\n",
       "      <td>0.1027</td>\n",
       "      <td>0.059495</td>\n",
       "      <td>0.136714</td>\n",
       "      <td>0.249824</td>\n",
       "      <td>...</td>\n",
       "      <td>0.005187</td>\n",
       "      <td>0.008067</td>\n",
       "      <td>0.011929</td>\n",
       "      <td>0.004490</td>\n",
       "      <td>0.012027</td>\n",
       "      <td>0.009653</td>\n",
       "      <td>0.008464</td>\n",
       "      <td>0.004689</td>\n",
       "      <td>0.004789</td>\n",
       "      <td>0.005286</td>\n",
       "    </tr>\n",
       "    <tr>\n",
       "      <th>...</th>\n",
       "      <td>...</td>\n",
       "      <td>...</td>\n",
       "      <td>...</td>\n",
       "      <td>...</td>\n",
       "      <td>...</td>\n",
       "      <td>...</td>\n",
       "      <td>...</td>\n",
       "      <td>...</td>\n",
       "      <td>...</td>\n",
       "      <td>...</td>\n",
       "      <td>...</td>\n",
       "      <td>...</td>\n",
       "      <td>...</td>\n",
       "      <td>...</td>\n",
       "      <td>...</td>\n",
       "      <td>...</td>\n",
       "      <td>...</td>\n",
       "      <td>...</td>\n",
       "      <td>...</td>\n",
       "      <td>...</td>\n",
       "      <td>...</td>\n",
       "    </tr>\n",
       "    <tr>\n",
       "      <th>203</th>\n",
       "      <td>0.018527</td>\n",
       "      <td>0.034015</td>\n",
       "      <td>0.016660</td>\n",
       "      <td>0.017545</td>\n",
       "      <td>0.038547</td>\n",
       "      <td>0.151003</td>\n",
       "      <td>0.2028</td>\n",
       "      <td>0.156491</td>\n",
       "      <td>0.209288</td>\n",
       "      <td>0.237756</td>\n",
       "      <td>...</td>\n",
       "      <td>0.020097</td>\n",
       "      <td>0.011533</td>\n",
       "      <td>0.009752</td>\n",
       "      <td>0.019705</td>\n",
       "      <td>0.003295</td>\n",
       "      <td>0.010049</td>\n",
       "      <td>0.006479</td>\n",
       "      <td>0.011434</td>\n",
       "      <td>0.019116</td>\n",
       "      <td>0.015578</td>\n",
       "    </tr>\n",
       "    <tr>\n",
       "      <th>204</th>\n",
       "      <td>0.031789</td>\n",
       "      <td>0.010049</td>\n",
       "      <td>0.029365</td>\n",
       "      <td>0.054867</td>\n",
       "      <td>0.073250</td>\n",
       "      <td>0.091485</td>\n",
       "      <td>0.0990</td>\n",
       "      <td>0.096945</td>\n",
       "      <td>0.098034</td>\n",
       "      <td>0.195073</td>\n",
       "      <td>...</td>\n",
       "      <td>0.005087</td>\n",
       "      <td>0.006081</td>\n",
       "      <td>0.009257</td>\n",
       "      <td>0.013410</td>\n",
       "      <td>0.006280</td>\n",
       "      <td>0.006280</td>\n",
       "      <td>0.003394</td>\n",
       "      <td>0.003195</td>\n",
       "      <td>0.006181</td>\n",
       "      <td>0.006678</td>\n",
       "    </tr>\n",
       "    <tr>\n",
       "      <th>205</th>\n",
       "      <td>0.050883</td>\n",
       "      <td>0.042772</td>\n",
       "      <td>0.017840</td>\n",
       "      <td>0.028782</td>\n",
       "      <td>0.034498</td>\n",
       "      <td>0.110736</td>\n",
       "      <td>0.1257</td>\n",
       "      <td>0.111362</td>\n",
       "      <td>0.118494</td>\n",
       "      <td>0.225461</td>\n",
       "      <td>...</td>\n",
       "      <td>0.015381</td>\n",
       "      <td>0.015873</td>\n",
       "      <td>0.002896</td>\n",
       "      <td>0.005087</td>\n",
       "      <td>0.006181</td>\n",
       "      <td>0.008861</td>\n",
       "      <td>0.013903</td>\n",
       "      <td>0.013706</td>\n",
       "      <td>0.007671</td>\n",
       "      <td>0.003095</td>\n",
       "    </tr>\n",
       "    <tr>\n",
       "      <th>206</th>\n",
       "      <td>0.029850</td>\n",
       "      <td>0.034691</td>\n",
       "      <td>0.047837</td>\n",
       "      <td>0.059023</td>\n",
       "      <td>0.016562</td>\n",
       "      <td>0.126985</td>\n",
       "      <td>0.1465</td>\n",
       "      <td>0.106430</td>\n",
       "      <td>0.177728</td>\n",
       "      <td>0.211395</td>\n",
       "      <td>...</td>\n",
       "      <td>0.004191</td>\n",
       "      <td>0.008563</td>\n",
       "      <td>0.004589</td>\n",
       "      <td>0.012521</td>\n",
       "      <td>0.003594</td>\n",
       "      <td>0.003494</td>\n",
       "      <td>0.003394</td>\n",
       "      <td>0.007869</td>\n",
       "      <td>0.003594</td>\n",
       "      <td>0.004789</td>\n",
       "    </tr>\n",
       "    <tr>\n",
       "      <th>207</th>\n",
       "      <td>0.025668</td>\n",
       "      <td>0.035657</td>\n",
       "      <td>0.013508</td>\n",
       "      <td>0.026837</td>\n",
       "      <td>0.021174</td>\n",
       "      <td>0.033241</td>\n",
       "      <td>0.0655</td>\n",
       "      <td>0.131028</td>\n",
       "      <td>0.169152</td>\n",
       "      <td>0.211395</td>\n",
       "      <td>...</td>\n",
       "      <td>0.017938</td>\n",
       "      <td>0.014494</td>\n",
       "      <td>0.012818</td>\n",
       "      <td>0.004689</td>\n",
       "      <td>0.003892</td>\n",
       "      <td>0.006081</td>\n",
       "      <td>0.003992</td>\n",
       "      <td>0.003594</td>\n",
       "      <td>0.006081</td>\n",
       "      <td>0.011434</td>\n",
       "    </tr>\n",
       "  </tbody>\n",
       "</table>\n",
       "<p>168 rows × 60 columns</p>\n",
       "</div>"
      ],
      "text/plain": [
       "           0         1         2         3         4         5       6   \\\n",
       "0    0.019803  0.036428  0.041909  0.020489  0.091120  0.094037  0.1539   \n",
       "1    0.044304  0.050978  0.080935  0.066630  0.111810  0.229762  0.2156   \n",
       "4    0.073436  0.064476  0.046979  0.038644  0.057325  0.062881  0.1209   \n",
       "6    0.031208  0.091302  0.124074  0.131730  0.154779  0.157858  0.0731   \n",
       "7    0.050598  0.053351  0.080842  0.031402  0.109572  0.088194  0.1027   \n",
       "..        ...       ...       ...       ...       ...       ...     ...   \n",
       "203  0.018527  0.034015  0.016660  0.017545  0.038547  0.151003  0.2028   \n",
       "204  0.031789  0.010049  0.029365  0.054867  0.073250  0.091485  0.0990   \n",
       "205  0.050883  0.042772  0.017840  0.028782  0.034498  0.110736  0.1257   \n",
       "206  0.029850  0.034691  0.047837  0.059023  0.016562  0.126985  0.1465   \n",
       "207  0.025668  0.035657  0.013508  0.026837  0.021174  0.033241  0.0655   \n",
       "\n",
       "           7         8         9   ...        50        51        52  \\\n",
       "0    0.148506  0.270714  0.191529  ...  0.022935  0.002696  0.006479   \n",
       "1    0.298696  0.287957  0.252469  ...  0.012423  0.008365  0.008861   \n",
       "4    0.220500  0.304834  0.368732  ...  0.015480  0.003095  0.005385   \n",
       "6    0.131116  0.189214  0.301067  ...  0.019312  0.019901  0.024497   \n",
       "7    0.059495  0.136714  0.249824  ...  0.005187  0.008067  0.011929   \n",
       "..        ...       ...       ...  ...       ...       ...       ...   \n",
       "203  0.156491  0.209288  0.237756  ...  0.020097  0.011533  0.009752   \n",
       "204  0.096945  0.098034  0.195073  ...  0.005087  0.006081  0.009257   \n",
       "205  0.111362  0.118494  0.225461  ...  0.015381  0.015873  0.002896   \n",
       "206  0.106430  0.177728  0.211395  ...  0.004191  0.008563  0.004589   \n",
       "207  0.131028  0.169152  0.211395  ...  0.017938  0.014494  0.012818   \n",
       "\n",
       "           53        54        55        56        57        58        59  \n",
       "0    0.015775  0.007174  0.016562  0.017840  0.008365  0.008960  0.003195  \n",
       "1    0.004789  0.009356  0.018920  0.013903  0.004888  0.005187  0.004390  \n",
       "4    0.010445  0.010940  0.001499  0.007174  0.004789  0.010643  0.009356  \n",
       "6    0.013015  0.006976  0.013706  0.009158  0.014199  0.003594  0.010247  \n",
       "7    0.004490  0.012027  0.009653  0.008464  0.004689  0.004789  0.005286  \n",
       "..        ...       ...       ...       ...       ...       ...       ...  \n",
       "203  0.019705  0.003295  0.010049  0.006479  0.011434  0.019116  0.015578  \n",
       "204  0.013410  0.006280  0.006280  0.003394  0.003195  0.006181  0.006678  \n",
       "205  0.005087  0.006181  0.008861  0.013903  0.013706  0.007671  0.003095  \n",
       "206  0.012521  0.003594  0.003494  0.003394  0.007869  0.003594  0.004789  \n",
       "207  0.004689  0.003892  0.006081  0.003992  0.003594  0.006081  0.011434  \n",
       "\n",
       "[168 rows x 60 columns]"
      ]
     },
     "execution_count": 673,
     "metadata": {},
     "output_type": "execute_result"
    }
   ],
   "source": [
    "sonar.iloc[:,:60]"
   ]
  },
  {
   "cell_type": "code",
   "execution_count": 674,
   "metadata": {},
   "outputs": [],
   "source": [
    "sonar.iloc[:,:60]=sc.fit_transform(sonar.iloc[:,:60])"
   ]
  },
  {
   "cell_type": "code",
   "execution_count": 675,
   "metadata": {},
   "outputs": [
    {
     "data": {
      "text/plain": [
       "(168, 61)"
      ]
     },
     "execution_count": 675,
     "metadata": {},
     "output_type": "execute_result"
    }
   ],
   "source": [
    "sonar.shape"
   ]
  },
  {
   "cell_type": "code",
   "execution_count": 676,
   "metadata": {},
   "outputs": [],
   "source": [
    "X=sonar.iloc[:,:60]\n",
    "y=sonar.iloc[:,60:]"
   ]
  },
  {
   "cell_type": "code",
   "execution_count": 677,
   "metadata": {},
   "outputs": [],
   "source": [
    "X_train, X_test, y_train, y_test = train_test_split(X, y, test_size=0.33, random_state=42)"
   ]
  },
  {
   "cell_type": "code",
   "execution_count": 678,
   "metadata": {},
   "outputs": [],
   "source": [
    "lc=LogisticRegression()"
   ]
  },
  {
   "cell_type": "code",
   "execution_count": 679,
   "metadata": {},
   "outputs": [
    {
     "data": {
      "text/plain": [
       "(112, 60)"
      ]
     },
     "execution_count": 679,
     "metadata": {},
     "output_type": "execute_result"
    }
   ],
   "source": [
    "X_train.shape"
   ]
  },
  {
   "cell_type": "code",
   "execution_count": 680,
   "metadata": {},
   "outputs": [
    {
     "data": {
      "text/plain": [
       "LogisticRegression()"
      ]
     },
     "execution_count": 680,
     "metadata": {},
     "output_type": "execute_result"
    }
   ],
   "source": [
    "lc.fit(X_train,y_train.values.ravel())"
   ]
  },
  {
   "cell_type": "code",
   "execution_count": 681,
   "metadata": {},
   "outputs": [],
   "source": [
    "lc_predict=lc.predict(X_test)"
   ]
  },
  {
   "cell_type": "code",
   "execution_count": 682,
   "metadata": {},
   "outputs": [
    {
     "name": "stdout",
     "output_type": "stream",
     "text": [
      "[[23  5]\n",
      " [ 4 24]]\n",
      "\n",
      "              precision    recall  f1-score   support\n",
      "\n",
      "           0       0.85      0.82      0.84        28\n",
      "           1       0.83      0.86      0.84        28\n",
      "\n",
      "    accuracy                           0.84        56\n",
      "   macro avg       0.84      0.84      0.84        56\n",
      "weighted avg       0.84      0.84      0.84        56\n",
      "\n"
     ]
    }
   ],
   "source": [
    "print(confusion_matrix(y_test,lc_predict))\n",
    "print()\n",
    "print(classification_report(y_test,lc_predict))"
   ]
  },
  {
   "cell_type": "code",
   "execution_count": 683,
   "metadata": {},
   "outputs": [],
   "source": [
    "def model_select (model):\n",
    "    maxscore=0\n",
    "    maxrandomstate=0\n",
    "    for x in range (42,102):\n",
    "        X_train, X_test, y_train, y_test = train_test_split(X, y, test_size=0.33, random_state=x)\n",
    "        md=model()\n",
    "        md.fit(X_train,y_train.values.ravel())\n",
    "        mdpredict=md.predict(X_test)\n",
    "        r2score=r2_score(y_test,mdpredict)\n",
    "        #print(\"R2 score for random state {b} is {c}\".format(b=x,c=r2score))\n",
    "        \n",
    "        if r2score>maxscore:\n",
    "            maxscore=r2score\n",
    "            maxrandomstate=x\n",
    "    #print()\n",
    "    print(\"Best score is {} at random state {}\".format(maxscore,maxrandomstate))"
   ]
  },
  {
   "cell_type": "code",
   "execution_count": 684,
   "metadata": {},
   "outputs": [
    {
     "name": "stdout",
     "output_type": "stream",
     "text": [
      "Best score is 0.6428571428571428 at random state 84\n"
     ]
    }
   ],
   "source": [
    "model_select(LogisticRegression)"
   ]
  },
  {
   "cell_type": "code",
   "execution_count": 685,
   "metadata": {},
   "outputs": [
    {
     "name": "stdout",
     "output_type": "stream",
     "text": [
      "Best score is 0.49743589743589745 at random state 98\n"
     ]
    }
   ],
   "source": [
    "model_select(KNeighborsClassifier)"
   ]
  },
  {
   "cell_type": "code",
   "execution_count": 686,
   "metadata": {},
   "outputs": [
    {
     "name": "stdout",
     "output_type": "stream",
     "text": [
      "Best score is 0.7857142857142857 at random state 84\n"
     ]
    }
   ],
   "source": [
    "model_select(SVC)"
   ]
  },
  {
   "cell_type": "code",
   "execution_count": 687,
   "metadata": {},
   "outputs": [
    {
     "name": "stdout",
     "output_type": "stream",
     "text": [
      "Best score is 0.5692307692307693 at random state 97\n"
     ]
    }
   ],
   "source": [
    "model_select(GaussianNB)"
   ]
  },
  {
   "cell_type": "code",
   "execution_count": 688,
   "metadata": {},
   "outputs": [
    {
     "name": "stdout",
     "output_type": "stream",
     "text": [
      "Best score is 0.3563218390804598 at random state 66\n"
     ]
    }
   ],
   "source": [
    "model_select(DecisionTreeClassifier)"
   ]
  },
  {
   "cell_type": "code",
   "execution_count": 689,
   "metadata": {},
   "outputs": [
    {
     "name": "stdout",
     "output_type": "stream",
     "text": [
      "Best score is 0.7846153846153846 at random state 57\n"
     ]
    }
   ],
   "source": [
    "model_select(RandomForestClassifier)"
   ]
  },
  {
   "cell_type": "code",
   "execution_count": 691,
   "metadata": {},
   "outputs": [],
   "source": [
    "X_train, X_test, y_train, y_test = train_test_split(X, y, test_size=0.33, random_state=84)"
   ]
  },
  {
   "cell_type": "code",
   "execution_count": 692,
   "metadata": {},
   "outputs": [],
   "source": [
    "svc_params={'C':[1.0,10.0,20.0,50.0,80.0,100.0,200.0]}\n",
    "gscvs=GridSearchCV(SVC(),svc_params,refit=False)"
   ]
  },
  {
   "cell_type": "code",
   "execution_count": 700,
   "metadata": {},
   "outputs": [
    {
     "data": {
      "text/plain": [
       "GridSearchCV(estimator=SVC(),\n",
       "             param_grid={'C': [1.0, 10.0, 20.0, 50.0, 80.0, 100.0, 200.0]},\n",
       "             refit=False)"
      ]
     },
     "execution_count": 700,
     "metadata": {},
     "output_type": "execute_result"
    }
   ],
   "source": [
    "gscvs.fit(X_train,y_train.values.ravel())"
   ]
  },
  {
   "cell_type": "code",
   "execution_count": 701,
   "metadata": {},
   "outputs": [
    {
     "data": {
      "text/plain": [
       "{'C': 10.0}"
      ]
     },
     "execution_count": 701,
     "metadata": {},
     "output_type": "execute_result"
    }
   ],
   "source": [
    "gscvs.best_params_"
   ]
  },
  {
   "cell_type": "code",
   "execution_count": 697,
   "metadata": {},
   "outputs": [],
   "source": [
    "svc=SVC(C=1.0)\n",
    "svc.fit(X_train,y_train.values.ravel())\n",
    "svc_predict=svc.predict(X_test)"
   ]
  },
  {
   "cell_type": "code",
   "execution_count": 698,
   "metadata": {},
   "outputs": [
    {
     "data": {
      "text/plain": [
       "0.7857142857142857"
      ]
     },
     "execution_count": 698,
     "metadata": {},
     "output_type": "execute_result"
    }
   ],
   "source": [
    "r2_score(y_test,svc_predict)"
   ]
  },
  {
   "cell_type": "code",
   "execution_count": 703,
   "metadata": {},
   "outputs": [
    {
     "name": "stdout",
     "output_type": "stream",
     "text": [
      "[[26  2]\n",
      " [ 1 27]]\n",
      "\n",
      "              precision    recall  f1-score   support\n",
      "\n",
      "           0       0.96      0.93      0.95        28\n",
      "           1       0.93      0.96      0.95        28\n",
      "\n",
      "    accuracy                           0.95        56\n",
      "   macro avg       0.95      0.95      0.95        56\n",
      "weighted avg       0.95      0.95      0.95        56\n",
      "\n"
     ]
    }
   ],
   "source": [
    "print(confusion_matrix(y_test,svc_predict))\n",
    "print()\n",
    "print(classification_report(y_test,svc_predict))"
   ]
  },
  {
   "cell_type": "code",
   "execution_count": 706,
   "metadata": {},
   "outputs": [
    {
     "data": {
      "text/plain": [
       "['SVC_Sonar.joblib']"
      ]
     },
     "execution_count": 706,
     "metadata": {},
     "output_type": "execute_result"
    }
   ],
   "source": [
    "joblib.dump(svc,'SVC_Sonar.joblib')"
   ]
  }
 ],
 "metadata": {
  "kernelspec": {
   "display_name": "Python 3",
   "language": "python",
   "name": "python3"
  },
  "language_info": {
   "codemirror_mode": {
    "name": "ipython",
    "version": 3
   },
   "file_extension": ".py",
   "mimetype": "text/x-python",
   "name": "python",
   "nbconvert_exporter": "python",
   "pygments_lexer": "ipython3",
   "version": "3.8.3"
  }
 },
 "nbformat": 4,
 "nbformat_minor": 4
}

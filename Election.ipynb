{
 "cells": [
  {
   "cell_type": "code",
   "execution_count": 256,
   "metadata": {},
   "outputs": [],
   "source": [
    "#Generic\n",
    "import pandas as pd, numpy as np, seaborn as sns, matplotlib.pyplot as plt, joblib\n",
    "from scipy.stats import zscore,boxcox\n",
    "\n",
    "#Encode\n",
    "from sklearn.preprocessing import LabelEncoder, OneHotEncoder\n",
    "\n",
    "#Skewness\n",
    "from sklearn.preprocessing import PowerTransformer\n",
    "\n",
    "#Normalize\n",
    "from sklearn.preprocessing import MinMaxScaler,StandardScaler\n",
    "\n",
    "#Impute\n",
    "from sklearn.impute import SimpleImputer\n",
    "\n",
    "#Decomposition\n",
    "from sklearn.decomposition import PCA\n",
    "\n",
    "#Train Test Split\n",
    "from sklearn.model_selection import train_test_split\n",
    "\n",
    "#Metrics\n",
    "from sklearn.metrics import r2_score,mean_absolute_error,mean_squared_error\n",
    "from sklearn.metrics import accuracy_score,roc_curve,auc,classification_report,confusion_matrix\n",
    "\n",
    "#CrossVal\n",
    "from sklearn.model_selection import cross_val_score\n",
    "\n",
    "#RegressionModels\n",
    "from sklearn.linear_model import LinearRegression,Lasso,Ridge,ElasticNet\n",
    "from sklearn.neighbors import KNeighborsRegressor\n",
    "from sklearn.svm import SVR,LinearSVR\n",
    "from sklearn.ensemble import RandomForestRegressor,AdaBoostRegressor\n",
    "from sklearn.tree import DecisionTreeRegressor\n",
    "\n",
    "#ClassificationModels\n",
    "from sklearn.linear_model import LogisticRegression\n",
    "from sklearn.neighbors import KNeighborsClassifier\n",
    "from sklearn.svm import SVC\n",
    "from sklearn.ensemble import RandomForestClassifier,AdaBoostClassifier,BaggingClassifier,GradientBoostingClassifier\n",
    "from sklearn.tree import DecisionTreeClassifier\n",
    "from sklearn.naive_bayes import GaussianNB\n",
    "\n",
    "#Optimization\n",
    "from sklearn.model_selection import GridSearchCV\n",
    "\n",
    "#Deeplearning\n",
    "from tensorflow.keras.models import Sequential\n",
    "from tensorflow.keras.layers import Dense,Dropout\n",
    "from tensorflow.keras.callbacks import EarlyStopping"
   ]
  },
  {
   "cell_type": "code",
   "execution_count": 257,
   "metadata": {},
   "outputs": [],
   "source": [
    "df=pd.read_csv('ElectionData.csv')"
   ]
  },
  {
   "cell_type": "code",
   "execution_count": 258,
   "metadata": {},
   "outputs": [
    {
     "data": {
      "text/html": [
       "<div>\n",
       "<style scoped>\n",
       "    .dataframe tbody tr th:only-of-type {\n",
       "        vertical-align: middle;\n",
       "    }\n",
       "\n",
       "    .dataframe tbody tr th {\n",
       "        vertical-align: top;\n",
       "    }\n",
       "\n",
       "    .dataframe thead th {\n",
       "        text-align: right;\n",
       "    }\n",
       "</style>\n",
       "<table border=\"1\" class=\"dataframe\">\n",
       "  <thead>\n",
       "    <tr style=\"text-align: right;\">\n",
       "      <th></th>\n",
       "      <th>TimeElapsed</th>\n",
       "      <th>time</th>\n",
       "      <th>territoryName</th>\n",
       "      <th>totalMandates</th>\n",
       "      <th>availableMandates</th>\n",
       "      <th>numParishes</th>\n",
       "      <th>numParishesApproved</th>\n",
       "      <th>blankVotes</th>\n",
       "      <th>blankVotesPercentage</th>\n",
       "      <th>nullVotes</th>\n",
       "      <th>...</th>\n",
       "      <th>pre.votersPercentage</th>\n",
       "      <th>pre.subscribedVoters</th>\n",
       "      <th>pre.totalVoters</th>\n",
       "      <th>Party</th>\n",
       "      <th>Mandates</th>\n",
       "      <th>Percentage</th>\n",
       "      <th>validVotesPercentage</th>\n",
       "      <th>Votes</th>\n",
       "      <th>Hondt</th>\n",
       "      <th>FinalMandates</th>\n",
       "    </tr>\n",
       "  </thead>\n",
       "  <tbody>\n",
       "    <tr>\n",
       "      <th>0</th>\n",
       "      <td>0</td>\n",
       "      <td>2019-10-06 20:10:02</td>\n",
       "      <td>Território Nacional</td>\n",
       "      <td>0</td>\n",
       "      <td>226</td>\n",
       "      <td>3092</td>\n",
       "      <td>1081</td>\n",
       "      <td>9652</td>\n",
       "      <td>2.5</td>\n",
       "      <td>8874</td>\n",
       "      <td>...</td>\n",
       "      <td>52.66</td>\n",
       "      <td>813743</td>\n",
       "      <td>428546</td>\n",
       "      <td>PS</td>\n",
       "      <td>0</td>\n",
       "      <td>38.29</td>\n",
       "      <td>40.22</td>\n",
       "      <td>147993</td>\n",
       "      <td>94</td>\n",
       "      <td>106</td>\n",
       "    </tr>\n",
       "    <tr>\n",
       "      <th>1</th>\n",
       "      <td>0</td>\n",
       "      <td>2019-10-06 20:10:02</td>\n",
       "      <td>Território Nacional</td>\n",
       "      <td>0</td>\n",
       "      <td>226</td>\n",
       "      <td>3092</td>\n",
       "      <td>1081</td>\n",
       "      <td>9652</td>\n",
       "      <td>2.5</td>\n",
       "      <td>8874</td>\n",
       "      <td>...</td>\n",
       "      <td>52.66</td>\n",
       "      <td>813743</td>\n",
       "      <td>428546</td>\n",
       "      <td>PPD/PSD</td>\n",
       "      <td>0</td>\n",
       "      <td>33.28</td>\n",
       "      <td>34.95</td>\n",
       "      <td>128624</td>\n",
       "      <td>81</td>\n",
       "      <td>77</td>\n",
       "    </tr>\n",
       "    <tr>\n",
       "      <th>2</th>\n",
       "      <td>0</td>\n",
       "      <td>2019-10-06 20:10:02</td>\n",
       "      <td>Território Nacional</td>\n",
       "      <td>0</td>\n",
       "      <td>226</td>\n",
       "      <td>3092</td>\n",
       "      <td>1081</td>\n",
       "      <td>9652</td>\n",
       "      <td>2.5</td>\n",
       "      <td>8874</td>\n",
       "      <td>...</td>\n",
       "      <td>52.66</td>\n",
       "      <td>813743</td>\n",
       "      <td>428546</td>\n",
       "      <td>B.E.</td>\n",
       "      <td>0</td>\n",
       "      <td>6.81</td>\n",
       "      <td>7.15</td>\n",
       "      <td>26307</td>\n",
       "      <td>16</td>\n",
       "      <td>19</td>\n",
       "    </tr>\n",
       "    <tr>\n",
       "      <th>3</th>\n",
       "      <td>0</td>\n",
       "      <td>2019-10-06 20:10:02</td>\n",
       "      <td>Território Nacional</td>\n",
       "      <td>0</td>\n",
       "      <td>226</td>\n",
       "      <td>3092</td>\n",
       "      <td>1081</td>\n",
       "      <td>9652</td>\n",
       "      <td>2.5</td>\n",
       "      <td>8874</td>\n",
       "      <td>...</td>\n",
       "      <td>52.66</td>\n",
       "      <td>813743</td>\n",
       "      <td>428546</td>\n",
       "      <td>CDS-PP</td>\n",
       "      <td>0</td>\n",
       "      <td>4.90</td>\n",
       "      <td>5.14</td>\n",
       "      <td>18923</td>\n",
       "      <td>12</td>\n",
       "      <td>5</td>\n",
       "    </tr>\n",
       "    <tr>\n",
       "      <th>4</th>\n",
       "      <td>0</td>\n",
       "      <td>2019-10-06 20:10:02</td>\n",
       "      <td>Território Nacional</td>\n",
       "      <td>0</td>\n",
       "      <td>226</td>\n",
       "      <td>3092</td>\n",
       "      <td>1081</td>\n",
       "      <td>9652</td>\n",
       "      <td>2.5</td>\n",
       "      <td>8874</td>\n",
       "      <td>...</td>\n",
       "      <td>52.66</td>\n",
       "      <td>813743</td>\n",
       "      <td>428546</td>\n",
       "      <td>PCP-PEV</td>\n",
       "      <td>0</td>\n",
       "      <td>4.59</td>\n",
       "      <td>4.83</td>\n",
       "      <td>17757</td>\n",
       "      <td>11</td>\n",
       "      <td>12</td>\n",
       "    </tr>\n",
       "  </tbody>\n",
       "</table>\n",
       "<p>5 rows × 28 columns</p>\n",
       "</div>"
      ],
      "text/plain": [
       "   TimeElapsed                 time        territoryName  totalMandates  \\\n",
       "0            0  2019-10-06 20:10:02  Território Nacional              0   \n",
       "1            0  2019-10-06 20:10:02  Território Nacional              0   \n",
       "2            0  2019-10-06 20:10:02  Território Nacional              0   \n",
       "3            0  2019-10-06 20:10:02  Território Nacional              0   \n",
       "4            0  2019-10-06 20:10:02  Território Nacional              0   \n",
       "\n",
       "   availableMandates  numParishes  numParishesApproved  blankVotes  \\\n",
       "0                226         3092                 1081        9652   \n",
       "1                226         3092                 1081        9652   \n",
       "2                226         3092                 1081        9652   \n",
       "3                226         3092                 1081        9652   \n",
       "4                226         3092                 1081        9652   \n",
       "\n",
       "   blankVotesPercentage  nullVotes  ...  pre.votersPercentage  \\\n",
       "0                   2.5       8874  ...                 52.66   \n",
       "1                   2.5       8874  ...                 52.66   \n",
       "2                   2.5       8874  ...                 52.66   \n",
       "3                   2.5       8874  ...                 52.66   \n",
       "4                   2.5       8874  ...                 52.66   \n",
       "\n",
       "   pre.subscribedVoters  pre.totalVoters    Party  Mandates  Percentage  \\\n",
       "0                813743           428546       PS         0       38.29   \n",
       "1                813743           428546  PPD/PSD         0       33.28   \n",
       "2                813743           428546     B.E.         0        6.81   \n",
       "3                813743           428546   CDS-PP         0        4.90   \n",
       "4                813743           428546  PCP-PEV         0        4.59   \n",
       "\n",
       "   validVotesPercentage   Votes  Hondt  FinalMandates  \n",
       "0                 40.22  147993     94            106  \n",
       "1                 34.95  128624     81             77  \n",
       "2                  7.15   26307     16             19  \n",
       "3                  5.14   18923     12              5  \n",
       "4                  4.83   17757     11             12  \n",
       "\n",
       "[5 rows x 28 columns]"
      ]
     },
     "execution_count": 258,
     "metadata": {},
     "output_type": "execute_result"
    }
   ],
   "source": [
    "df.head()"
   ]
  },
  {
   "cell_type": "code",
   "execution_count": 259,
   "metadata": {},
   "outputs": [
    {
     "name": "stdout",
     "output_type": "stream",
     "text": [
      "<class 'pandas.core.frame.DataFrame'>\n",
      "RangeIndex: 21643 entries, 0 to 21642\n",
      "Data columns (total 28 columns):\n",
      " #   Column                    Non-Null Count  Dtype  \n",
      "---  ------                    --------------  -----  \n",
      " 0   TimeElapsed               21643 non-null  int64  \n",
      " 1   time                      21643 non-null  object \n",
      " 2   territoryName             21643 non-null  object \n",
      " 3   totalMandates             21643 non-null  int64  \n",
      " 4   availableMandates         21643 non-null  int64  \n",
      " 5   numParishes               21643 non-null  int64  \n",
      " 6   numParishesApproved       21643 non-null  int64  \n",
      " 7   blankVotes                21643 non-null  int64  \n",
      " 8   blankVotesPercentage      21643 non-null  float64\n",
      " 9   nullVotes                 21643 non-null  int64  \n",
      " 10  nullVotesPercentage       21643 non-null  float64\n",
      " 11  votersPercentage          21643 non-null  float64\n",
      " 12  subscribedVoters          21643 non-null  int64  \n",
      " 13  totalVoters               21643 non-null  int64  \n",
      " 14  pre.blankVotes            21643 non-null  int64  \n",
      " 15  pre.blankVotesPercentage  21643 non-null  float64\n",
      " 16  pre.nullVotes             21643 non-null  int64  \n",
      " 17  pre.nullVotesPercentage   21643 non-null  float64\n",
      " 18  pre.votersPercentage      21643 non-null  float64\n",
      " 19  pre.subscribedVoters      21643 non-null  int64  \n",
      " 20  pre.totalVoters           21643 non-null  int64  \n",
      " 21  Party                     21643 non-null  object \n",
      " 22  Mandates                  21643 non-null  int64  \n",
      " 23  Percentage                21643 non-null  float64\n",
      " 24  validVotesPercentage      21643 non-null  float64\n",
      " 25  Votes                     21643 non-null  int64  \n",
      " 26  Hondt                     21643 non-null  int64  \n",
      " 27  FinalMandates             21643 non-null  int64  \n",
      "dtypes: float64(8), int64(17), object(3)\n",
      "memory usage: 4.6+ MB\n"
     ]
    }
   ],
   "source": [
    "df.info()"
   ]
  },
  {
   "cell_type": "code",
   "execution_count": 260,
   "metadata": {},
   "outputs": [
    {
     "data": {
      "text/plain": [
       "Território Nacional    1134\n",
       "Braga                  1134\n",
       "Leiria                 1134\n",
       "Porto                  1134\n",
       "Aveiro                 1080\n",
       "Viana do Castelo       1080\n",
       "Viseu                  1080\n",
       "Lisboa                 1080\n",
       "Coimbra                1080\n",
       "Madeira                1080\n",
       "Setúbal                1080\n",
       "Évora                  1026\n",
       "Faro                   1026\n",
       "Guarda                 1026\n",
       "Santarém               1026\n",
       "Bragança                972\n",
       "Castelo Branco          972\n",
       "Portalegre              918\n",
       "Beja                    918\n",
       "Vila Real               864\n",
       "Açores                  799\n",
       "Name: territoryName, dtype: int64"
      ]
     },
     "execution_count": 260,
     "metadata": {},
     "output_type": "execute_result"
    }
   ],
   "source": [
    "df['territoryName'].value_counts()"
   ]
  },
  {
   "cell_type": "code",
   "execution_count": 261,
   "metadata": {},
   "outputs": [],
   "source": [
    "le=LabelEncoder()"
   ]
  },
  {
   "cell_type": "code",
   "execution_count": 262,
   "metadata": {},
   "outputs": [],
   "source": [
    "df['territoryName']=le.fit_transform(df['territoryName'])"
   ]
  },
  {
   "cell_type": "code",
   "execution_count": 263,
   "metadata": {},
   "outputs": [],
   "source": [
    "df['time']=pd.to_datetime(df['time'])"
   ]
  },
  {
   "cell_type": "code",
   "execution_count": 264,
   "metadata": {},
   "outputs": [],
   "source": [
    "df['Month']=df['time'].dt.month"
   ]
  },
  {
   "cell_type": "code",
   "execution_count": 265,
   "metadata": {},
   "outputs": [],
   "source": [
    "df['Year']=df['time'].dt.year"
   ]
  },
  {
   "cell_type": "code",
   "execution_count": 266,
   "metadata": {},
   "outputs": [
    {
     "data": {
      "text/plain": [
       "10    21643\n",
       "Name: Month, dtype: int64"
      ]
     },
     "execution_count": 266,
     "metadata": {},
     "output_type": "execute_result"
    }
   ],
   "source": [
    "df['Month'].value_counts()"
   ]
  },
  {
   "cell_type": "code",
   "execution_count": 267,
   "metadata": {},
   "outputs": [],
   "source": [
    "df=df.drop('Month',axis=1)"
   ]
  },
  {
   "cell_type": "code",
   "execution_count": 268,
   "metadata": {},
   "outputs": [
    {
     "data": {
      "text/plain": [
       "2019    21643\n",
       "Name: Year, dtype: int64"
      ]
     },
     "execution_count": 268,
     "metadata": {},
     "output_type": "execute_result"
    }
   ],
   "source": [
    "df['Year'].value_counts()"
   ]
  },
  {
   "cell_type": "code",
   "execution_count": 269,
   "metadata": {},
   "outputs": [],
   "source": [
    "df=df.drop('Year',axis=1)"
   ]
  },
  {
   "cell_type": "code",
   "execution_count": 270,
   "metadata": {},
   "outputs": [],
   "source": [
    "df['DayOfWeek']=df['time'].dt.dayofweek"
   ]
  },
  {
   "cell_type": "code",
   "execution_count": 271,
   "metadata": {},
   "outputs": [],
   "source": [
    "df['Date']=df['time'].dt.date"
   ]
  },
  {
   "cell_type": "code",
   "execution_count": 272,
   "metadata": {},
   "outputs": [
    {
     "data": {
      "text/plain": [
       "2019-10-06    18419\n",
       "2019-10-07     3224\n",
       "Name: Date, dtype: int64"
      ]
     },
     "execution_count": 272,
     "metadata": {},
     "output_type": "execute_result"
    }
   ],
   "source": [
    "df['Date'].value_counts()"
   ]
  },
  {
   "cell_type": "code",
   "execution_count": 273,
   "metadata": {},
   "outputs": [
    {
     "data": {
      "text/plain": [
       "6    18419\n",
       "0     3224\n",
       "Name: DayOfWeek, dtype: int64"
      ]
     },
     "execution_count": 273,
     "metadata": {},
     "output_type": "execute_result"
    }
   ],
   "source": [
    "df['DayOfWeek'].value_counts()"
   ]
  },
  {
   "cell_type": "code",
   "execution_count": 274,
   "metadata": {},
   "outputs": [],
   "source": [
    "df=df.drop('DayOfWeek',axis=1)"
   ]
  },
  {
   "cell_type": "code",
   "execution_count": 275,
   "metadata": {},
   "outputs": [],
   "source": [
    "df['Date']=le.fit_transform(df['Date'])"
   ]
  },
  {
   "cell_type": "code",
   "execution_count": 276,
   "metadata": {},
   "outputs": [],
   "source": [
    "df['Hour']=df['time'].dt.hour"
   ]
  },
  {
   "cell_type": "code",
   "execution_count": 277,
   "metadata": {},
   "outputs": [],
   "source": [
    "df=df.drop('time',axis=1)"
   ]
  },
  {
   "cell_type": "code",
   "execution_count": 278,
   "metadata": {},
   "outputs": [
    {
     "data": {
      "text/plain": [
       "<bound method IndexOpsMixin.value_counts of 0             PS\n",
       "1        PPD/PSD\n",
       "2           B.E.\n",
       "3         CDS-PP\n",
       "4        PCP-PEV\n",
       "          ...   \n",
       "21638         NC\n",
       "21639        PNR\n",
       "21640        MPT\n",
       "21641        PTP\n",
       "21642        JPP\n",
       "Name: Party, Length: 21643, dtype: object>"
      ]
     },
     "execution_count": 278,
     "metadata": {},
     "output_type": "execute_result"
    }
   ],
   "source": [
    "df['Party'].value_counts"
   ]
  },
  {
   "cell_type": "code",
   "execution_count": 279,
   "metadata": {},
   "outputs": [
    {
     "data": {
      "text/plain": [
       "21"
      ]
     },
     "execution_count": 279,
     "metadata": {},
     "output_type": "execute_result"
    }
   ],
   "source": [
    "df['Party'].nunique()"
   ]
  },
  {
   "cell_type": "code",
   "execution_count": 280,
   "metadata": {},
   "outputs": [],
   "source": [
    "df['Party']=le.fit_transform(df['Party'])"
   ]
  },
  {
   "cell_type": "code",
   "execution_count": 281,
   "metadata": {},
   "outputs": [
    {
     "data": {
      "text/plain": [
       "(21643, 29)"
      ]
     },
     "execution_count": 281,
     "metadata": {},
     "output_type": "execute_result"
    }
   ],
   "source": [
    "df.shape"
   ]
  },
  {
   "cell_type": "code",
   "execution_count": 282,
   "metadata": {},
   "outputs": [],
   "source": [
    "# zs=zscore(df)\n",
    "# df=df[((zs<3)).all(axis=1)]"
   ]
  },
  {
   "cell_type": "code",
   "execution_count": 283,
   "metadata": {},
   "outputs": [
    {
     "data": {
      "image/png": "[encoded data removed]",
      "text/plain": [
       "<Figure size 720x432 with 1 Axes>"
      ]
     },
     "metadata": {
      "needs_background": "light"
     },
     "output_type": "display_data"
    }
   ],
   "source": [
    "plt.figure(figsize=(10,6))\n",
    "df.corr()['FinalMandates'].sort_values().drop('FinalMandates').plot(kind='bar')\n",
    "plt.show()"
   ]
  },
  {
   "cell_type": "code",
   "execution_count": 321,
   "metadata": {},
   "outputs": [
    {
     "data": {
      "image/png": "[encoded data removed]",
      "text/plain": [
       "<Figure size 720x432 with 1 Axes>"
      ]
     },
     "metadata": {
      "needs_background": "light"
     },
     "output_type": "display_data"
    }
   ],
   "source": [
    "plt.figure(figsize=(10,6))\n",
    "sns.regplot(x='FinalMandates',y='Votes',data=df)\n",
    "plt.show()"
   ]
  },
  {
   "cell_type": "code",
   "execution_count": 324,
   "metadata": {},
   "outputs": [
    {
     "data": {
      "image/png": "[encoded data removed]",
      "text/plain": [
       "<Figure size 720x432 with 2 Axes>"
      ]
     },
     "metadata": {
      "needs_background": "light"
     },
     "output_type": "display_data"
    }
   ],
   "source": [
    "plt.figure(figsize=(10,6))\n",
    "sns.heatmap(df.corr(),annot=False,cmap='viridis')\n",
    "plt.show()"
   ]
  },
  {
   "cell_type": "code",
   "execution_count": 284,
   "metadata": {},
   "outputs": [],
   "source": [
    "#We will drop Hondt column as it is highly correlated and won't let other features get trained\n",
    "df=df.drop('Hondt',axis=1)"
   ]
  },
  {
   "cell_type": "code",
   "execution_count": 285,
   "metadata": {},
   "outputs": [
    {
     "data": {
      "text/plain": [
       "TimeElapsed                 -0.005496\n",
       "territoryName               -0.025884\n",
       "totalMandates                5.150031\n",
       "availableMandates            5.131572\n",
       "numParishes                  3.920433\n",
       "numParishesApproved          4.238343\n",
       "blankVotes                   4.521940\n",
       "blankVotesPercentage         0.069627\n",
       "nullVotes                    4.520945\n",
       "nullVotesPercentage          0.855419\n",
       "votersPercentage            -1.158029\n",
       "subscribedVoters             4.568797\n",
       "totalVoters                  4.541364\n",
       "pre.blankVotes               4.551489\n",
       "pre.blankVotesPercentage     0.021609\n",
       "pre.nullVotes                4.563235\n",
       "pre.nullVotesPercentage      1.231109\n",
       "pre.votersPercentage        -0.779289\n",
       "pre.subscribedVoters         4.565085\n",
       "pre.totalVoters              4.548030\n",
       "Party                       -0.083536\n",
       "Mandates                    16.576658\n",
       "Percentage                   2.542328\n",
       "validVotesPercentage         2.543122\n",
       "Votes                       13.940573\n",
       "FinalMandates               12.402865\n",
       "Date                         1.971970\n",
       "Hour                        -1.901222\n",
       "dtype: float64"
      ]
     },
     "execution_count": 285,
     "metadata": {},
     "output_type": "execute_result"
    }
   ],
   "source": [
    "df.skew()"
   ]
  },
  {
   "cell_type": "code",
   "execution_count": 286,
   "metadata": {},
   "outputs": [],
   "source": [
    "pt=PowerTransformer()"
   ]
  },
  {
   "cell_type": "code",
   "execution_count": 287,
   "metadata": {},
   "outputs": [],
   "source": [
    "for x in df.columns:\n",
    "    if abs(df.loc[:,x].skew())>0.55:\n",
    "        df.loc[:,x]=np.log1p(df.loc[:,x].values.reshape(-1,1))"
   ]
  },
  {
   "cell_type": "code",
   "execution_count": 288,
   "metadata": {},
   "outputs": [],
   "source": [
    "scale=MinMaxScaler()"
   ]
  },
  {
   "cell_type": "code",
   "execution_count": 289,
   "metadata": {},
   "outputs": [],
   "source": [
    "X=df.drop('FinalMandates',axis=1)\n",
    "y=df['FinalMandates']"
   ]
  },
  {
   "cell_type": "code",
   "execution_count": 290,
   "metadata": {},
   "outputs": [],
   "source": [
    "X=scale.fit_transform(X)"
   ]
  },
  {
   "cell_type": "code",
   "execution_count": 291,
   "metadata": {},
   "outputs": [
    {
     "data": {
      "text/plain": [
       "TimeElapsed                 0\n",
       "territoryName               0\n",
       "totalMandates               0\n",
       "availableMandates           0\n",
       "numParishes                 0\n",
       "numParishesApproved         0\n",
       "blankVotes                  0\n",
       "blankVotesPercentage        0\n",
       "nullVotes                   0\n",
       "nullVotesPercentage         0\n",
       "votersPercentage            0\n",
       "subscribedVoters            0\n",
       "totalVoters                 0\n",
       "pre.blankVotes              0\n",
       "pre.blankVotesPercentage    0\n",
       "pre.nullVotes               0\n",
       "pre.nullVotesPercentage     0\n",
       "pre.votersPercentage        0\n",
       "pre.subscribedVoters        0\n",
       "pre.totalVoters             0\n",
       "Party                       0\n",
       "Mandates                    0\n",
       "Percentage                  0\n",
       "validVotesPercentage        0\n",
       "Votes                       0\n",
       "FinalMandates               0\n",
       "Date                        0\n",
       "Hour                        0\n",
       "dtype: int64"
      ]
     },
     "execution_count": 291,
     "metadata": {},
     "output_type": "execute_result"
    }
   ],
   "source": [
    "df.isna().sum()"
   ]
  },
  {
   "cell_type": "code",
   "execution_count": 292,
   "metadata": {},
   "outputs": [],
   "source": [
    "def model(mod):\n",
    "    maxscore=0\n",
    "    maxsstate=0\n",
    "    for x in range(42,105):\n",
    "        X_train, X_test, y_train, y_test = train_test_split(X, y, test_size=0.33, random_state=x)\n",
    "        md=mod()\n",
    "        md.fit(X_train,y_train)\n",
    "        predict=md.predict(X_test)\n",
    "        r2score=r2_score(y_test,predict)\n",
    "        if r2score>maxscore:\n",
    "            maxscore=r2score\n",
    "            maxsstate=x\n",
    "    print(\"Max score is {} and maxstate is {}\".format(maxscore,maxsstate))"
   ]
  },
  {
   "cell_type": "code",
   "execution_count": 293,
   "metadata": {},
   "outputs": [
    {
     "name": "stdout",
     "output_type": "stream",
     "text": [
      "Max score is 0.8336970776657383 and maxstate is 96\n"
     ]
    }
   ],
   "source": [
    "model(LinearRegression)"
   ]
  },
  {
   "cell_type": "code",
   "execution_count": 294,
   "metadata": {},
   "outputs": [
    {
     "name": "stdout",
     "output_type": "stream",
     "text": [
      "Max score is 0.9990693366943082 and maxstate is 45\n"
     ]
    }
   ],
   "source": [
    "model(RandomForestRegressor)"
   ]
  },
  {
   "cell_type": "code",
   "execution_count": 295,
   "metadata": {},
   "outputs": [],
   "source": [
    "X_train, X_test, y_train, y_test = train_test_split(X, y, test_size=0.33, random_state=45)"
   ]
  },
  {
   "cell_type": "code",
   "execution_count": 298,
   "metadata": {},
   "outputs": [
    {
     "data": {
      "text/plain": [
       "0.997634587048115"
      ]
     },
     "execution_count": 298,
     "metadata": {},
     "output_type": "execute_result"
    }
   ],
   "source": [
    "cross_val_score(RandomForestRegressor(),X_train,y_train,cv=5).mean()"
   ]
  },
  {
   "cell_type": "code",
   "execution_count": 299,
   "metadata": {},
   "outputs": [],
   "source": [
    "rf=RandomForestRegressor()\n",
    "rf.fit(X_train,y_train)\n",
    "predict=rf.predict(X_test)"
   ]
  },
  {
   "cell_type": "code",
   "execution_count": 300,
   "metadata": {},
   "outputs": [
    {
     "name": "stdout",
     "output_type": "stream",
     "text": [
      "R2 score is 0.9993605547608988\n",
      "\n",
      "MAE score is 0.0023791981454317503\n",
      "\n",
      "RMSE score is 0.015732283315496857\n"
     ]
    }
   ],
   "source": [
    "print(\"R2 score is {}\".format(r2_score(y_test,predict)))\n",
    "print()\n",
    "print(\"MAE score is {}\".format(mean_absolute_error(y_test,predict)))\n",
    "print()\n",
    "print(\"RMSE score is {}\".format(np.sqrt(mean_squared_error(y_test,predict))))"
   ]
  },
  {
   "cell_type": "code",
   "execution_count": 301,
   "metadata": {},
   "outputs": [
    {
     "data": {
      "text/plain": [
       "['Election RF.obj']"
      ]
     },
     "execution_count": 301,
     "metadata": {},
     "output_type": "execute_result"
    }
   ],
   "source": [
    "joblib.dump(rf,'Election RF.obj')"
   ]
  }
 ],
 "metadata": {
  "kernelspec": {
   "display_name": "Python 3",
   "language": "python",
   "name": "python3"
  },
  "language_info": {
   "codemirror_mode": {
    "name": "ipython",
    "version": 3
   },
   "file_extension": ".py",
   "mimetype": "text/x-python",
   "name": "python",
   "nbconvert_exporter": "python",
   "pygments_lexer": "ipython3",
   "version": "3.8.3"
  }
 },
 "nbformat": 4,
 "nbformat_minor": 4
}
